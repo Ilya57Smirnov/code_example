{
 "cells": [
  {
   "cell_type": "code",
   "execution_count": 16,
   "metadata": {},
   "outputs": [],
   "source": [
    "import pandas as pd\n",
    "import numpy as np\n",
    "from sklearn.model_selection import train_test_split\n",
    "import matplotlib.pyplot as plt\n",
    "from sklearn import *\n",
    "\n",
    "%matplotlib inline"
   ]
  },
  {
   "cell_type": "code",
   "execution_count": 17,
   "metadata": {
    "scrolled": false
   },
   "outputs": [
    {
     "data": {
      "text/html": [
       "<div>\n",
       "<style scoped>\n",
       "    .dataframe tbody tr th:only-of-type {\n",
       "        vertical-align: middle;\n",
       "    }\n",
       "\n",
       "    .dataframe tbody tr th {\n",
       "        vertical-align: top;\n",
       "    }\n",
       "\n",
       "    .dataframe thead th {\n",
       "        text-align: right;\n",
       "    }\n",
       "</style>\n",
       "<table border=\"1\" class=\"dataframe\">\n",
       "  <thead>\n",
       "    <tr style=\"text-align: right;\">\n",
       "      <th></th>\n",
       "      <th>Id</th>\n",
       "      <th>SeriousDlqin2yrs</th>\n",
       "      <th>RevolvingUtilizationOfUnsecuredLines</th>\n",
       "      <th>age</th>\n",
       "      <th>NumberOfTime30-59DaysPastDueNotWorse</th>\n",
       "      <th>DebtRatio</th>\n",
       "      <th>MonthlyIncome</th>\n",
       "      <th>NumberOfOpenCreditLinesAndLoans</th>\n",
       "      <th>NumberOfTimes90DaysLate</th>\n",
       "      <th>NumberRealEstateLoansOrLines</th>\n",
       "      <th>NumberOfTime60-89DaysPastDueNotWorse</th>\n",
       "      <th>NumberOfDependents</th>\n",
       "    </tr>\n",
       "  </thead>\n",
       "  <tbody>\n",
       "    <tr>\n",
       "      <th>0</th>\n",
       "      <td>1</td>\n",
       "      <td>1</td>\n",
       "      <td>0.766127</td>\n",
       "      <td>45</td>\n",
       "      <td>2</td>\n",
       "      <td>0.802982</td>\n",
       "      <td>9120.0</td>\n",
       "      <td>13</td>\n",
       "      <td>0</td>\n",
       "      <td>6</td>\n",
       "      <td>0</td>\n",
       "      <td>2.0</td>\n",
       "    </tr>\n",
       "    <tr>\n",
       "      <th>1</th>\n",
       "      <td>2</td>\n",
       "      <td>0</td>\n",
       "      <td>0.957151</td>\n",
       "      <td>40</td>\n",
       "      <td>0</td>\n",
       "      <td>0.121876</td>\n",
       "      <td>2600.0</td>\n",
       "      <td>4</td>\n",
       "      <td>0</td>\n",
       "      <td>0</td>\n",
       "      <td>0</td>\n",
       "      <td>1.0</td>\n",
       "    </tr>\n",
       "    <tr>\n",
       "      <th>2</th>\n",
       "      <td>3</td>\n",
       "      <td>0</td>\n",
       "      <td>0.658180</td>\n",
       "      <td>38</td>\n",
       "      <td>1</td>\n",
       "      <td>0.085113</td>\n",
       "      <td>3042.0</td>\n",
       "      <td>2</td>\n",
       "      <td>1</td>\n",
       "      <td>0</td>\n",
       "      <td>0</td>\n",
       "      <td>0.0</td>\n",
       "    </tr>\n",
       "    <tr>\n",
       "      <th>3</th>\n",
       "      <td>4</td>\n",
       "      <td>0</td>\n",
       "      <td>0.233810</td>\n",
       "      <td>30</td>\n",
       "      <td>0</td>\n",
       "      <td>0.036050</td>\n",
       "      <td>3300.0</td>\n",
       "      <td>5</td>\n",
       "      <td>0</td>\n",
       "      <td>0</td>\n",
       "      <td>0</td>\n",
       "      <td>0.0</td>\n",
       "    </tr>\n",
       "    <tr>\n",
       "      <th>4</th>\n",
       "      <td>5</td>\n",
       "      <td>0</td>\n",
       "      <td>0.907239</td>\n",
       "      <td>49</td>\n",
       "      <td>1</td>\n",
       "      <td>0.024926</td>\n",
       "      <td>63588.0</td>\n",
       "      <td>7</td>\n",
       "      <td>0</td>\n",
       "      <td>1</td>\n",
       "      <td>0</td>\n",
       "      <td>0.0</td>\n",
       "    </tr>\n",
       "    <tr>\n",
       "      <th>...</th>\n",
       "      <td>...</td>\n",
       "      <td>...</td>\n",
       "      <td>...</td>\n",
       "      <td>...</td>\n",
       "      <td>...</td>\n",
       "      <td>...</td>\n",
       "      <td>...</td>\n",
       "      <td>...</td>\n",
       "      <td>...</td>\n",
       "      <td>...</td>\n",
       "      <td>...</td>\n",
       "      <td>...</td>\n",
       "    </tr>\n",
       "    <tr>\n",
       "      <th>1345</th>\n",
       "      <td>1346</td>\n",
       "      <td>0</td>\n",
       "      <td>0.000000</td>\n",
       "      <td>39</td>\n",
       "      <td>0</td>\n",
       "      <td>0.055916</td>\n",
       "      <td>4166.0</td>\n",
       "      <td>5</td>\n",
       "      <td>0</td>\n",
       "      <td>0</td>\n",
       "      <td>0</td>\n",
       "      <td>0.0</td>\n",
       "    </tr>\n",
       "    <tr>\n",
       "      <th>1346</th>\n",
       "      <td>1347</td>\n",
       "      <td>0</td>\n",
       "      <td>0.045694</td>\n",
       "      <td>49</td>\n",
       "      <td>0</td>\n",
       "      <td>0.300175</td>\n",
       "      <td>4000.0</td>\n",
       "      <td>14</td>\n",
       "      <td>0</td>\n",
       "      <td>1</td>\n",
       "      <td>0</td>\n",
       "      <td>1.0</td>\n",
       "    </tr>\n",
       "    <tr>\n",
       "      <th>1347</th>\n",
       "      <td>1348</td>\n",
       "      <td>0</td>\n",
       "      <td>0.022780</td>\n",
       "      <td>53</td>\n",
       "      <td>0</td>\n",
       "      <td>0.323068</td>\n",
       "      <td>10000.0</td>\n",
       "      <td>14</td>\n",
       "      <td>0</td>\n",
       "      <td>2</td>\n",
       "      <td>0</td>\n",
       "      <td>1.0</td>\n",
       "    </tr>\n",
       "    <tr>\n",
       "      <th>1348</th>\n",
       "      <td>1349</td>\n",
       "      <td>0</td>\n",
       "      <td>0.036934</td>\n",
       "      <td>56</td>\n",
       "      <td>0</td>\n",
       "      <td>0.287935</td>\n",
       "      <td>8362.0</td>\n",
       "      <td>8</td>\n",
       "      <td>0</td>\n",
       "      <td>1</td>\n",
       "      <td>0</td>\n",
       "      <td>2.0</td>\n",
       "    </tr>\n",
       "    <tr>\n",
       "      <th>1349</th>\n",
       "      <td>1350</td>\n",
       "      <td>0</td>\n",
       "      <td>0.000000</td>\n",
       "      <td>62</td>\n",
       "      <td>0</td>\n",
       "      <td>1463.000000</td>\n",
       "      <td>NaN</td>\n",
       "      <td>5</td>\n",
       "      <td>0</td>\n",
       "      <td>1</td>\n",
       "      <td>0</td>\n",
       "      <td>0.0</td>\n",
       "    </tr>\n",
       "  </tbody>\n",
       "</table>\n",
       "<p>1350 rows × 12 columns</p>\n",
       "</div>"
      ],
      "text/plain": [
       "        Id  SeriousDlqin2yrs  RevolvingUtilizationOfUnsecuredLines  age  \\\n",
       "0        1                 1                              0.766127   45   \n",
       "1        2                 0                              0.957151   40   \n",
       "2        3                 0                              0.658180   38   \n",
       "3        4                 0                              0.233810   30   \n",
       "4        5                 0                              0.907239   49   \n",
       "...    ...               ...                                   ...  ...   \n",
       "1345  1346                 0                              0.000000   39   \n",
       "1346  1347                 0                              0.045694   49   \n",
       "1347  1348                 0                              0.022780   53   \n",
       "1348  1349                 0                              0.036934   56   \n",
       "1349  1350                 0                              0.000000   62   \n",
       "\n",
       "      NumberOfTime30-59DaysPastDueNotWorse    DebtRatio  MonthlyIncome  \\\n",
       "0                                        2     0.802982         9120.0   \n",
       "1                                        0     0.121876         2600.0   \n",
       "2                                        1     0.085113         3042.0   \n",
       "3                                        0     0.036050         3300.0   \n",
       "4                                        1     0.024926        63588.0   \n",
       "...                                    ...          ...            ...   \n",
       "1345                                     0     0.055916         4166.0   \n",
       "1346                                     0     0.300175         4000.0   \n",
       "1347                                     0     0.323068        10000.0   \n",
       "1348                                     0     0.287935         8362.0   \n",
       "1349                                     0  1463.000000            NaN   \n",
       "\n",
       "      NumberOfOpenCreditLinesAndLoans  NumberOfTimes90DaysLate  \\\n",
       "0                                  13                        0   \n",
       "1                                   4                        0   \n",
       "2                                   2                        1   \n",
       "3                                   5                        0   \n",
       "4                                   7                        0   \n",
       "...                               ...                      ...   \n",
       "1345                                5                        0   \n",
       "1346                               14                        0   \n",
       "1347                               14                        0   \n",
       "1348                                8                        0   \n",
       "1349                                5                        0   \n",
       "\n",
       "      NumberRealEstateLoansOrLines  NumberOfTime60-89DaysPastDueNotWorse  \\\n",
       "0                                6                                     0   \n",
       "1                                0                                     0   \n",
       "2                                0                                     0   \n",
       "3                                0                                     0   \n",
       "4                                1                                     0   \n",
       "...                            ...                                   ...   \n",
       "1345                             0                                     0   \n",
       "1346                             1                                     0   \n",
       "1347                             2                                     0   \n",
       "1348                             1                                     0   \n",
       "1349                             1                                     0   \n",
       "\n",
       "      NumberOfDependents  \n",
       "0                    2.0  \n",
       "1                    1.0  \n",
       "2                    0.0  \n",
       "3                    0.0  \n",
       "4                    0.0  \n",
       "...                  ...  \n",
       "1345                 0.0  \n",
       "1346                 1.0  \n",
       "1347                 1.0  \n",
       "1348                 2.0  \n",
       "1349                 0.0  \n",
       "\n",
       "[1350 rows x 12 columns]"
      ]
     },
     "execution_count": 17,
     "metadata": {},
     "output_type": "execute_result"
    }
   ],
   "source": [
    "df = pd.read_csv('data.csv', delimiter=',')\n",
    "df"
   ]
  },
  {
   "cell_type": "code",
   "execution_count": 18,
   "metadata": {},
   "outputs": [],
   "source": [
    "df.drop('Id', inplace=True, axis=1)"
   ]
  },
  {
   "cell_type": "code",
   "execution_count": 19,
   "metadata": {},
   "outputs": [],
   "source": [
    "df['MonthlyIncome'].fillna(df['MonthlyIncome'].mean(), inplace=True)\n",
    "df['DebtRatio'] = df['DebtRatio'] * df['MonthlyIncome']"
   ]
  },
  {
   "cell_type": "code",
   "execution_count": 31,
   "metadata": {},
   "outputs": [
    {
     "name": "stdout",
     "output_type": "stream",
     "text": [
      "<class 'pandas.core.frame.DataFrame'>\n",
      "Int64Index: 1307 entries, 0 to 1349\n",
      "Data columns (total 11 columns):\n",
      " #   Column                                Non-Null Count  Dtype  \n",
      "---  ------                                --------------  -----  \n",
      " 0   SeriousDlqin2yrs                      1307 non-null   int64  \n",
      " 1   RevolvingUtilizationOfUnsecuredLines  1307 non-null   float64\n",
      " 2   age                                   1307 non-null   int64  \n",
      " 3   NumberOfTime30-59DaysPastDueNotWorse  1307 non-null   int64  \n",
      " 4   DebtRatio                             1307 non-null   float64\n",
      " 5   MonthlyIncome                         1307 non-null   float64\n",
      " 6   NumberOfOpenCreditLinesAndLoans       1307 non-null   int64  \n",
      " 7   NumberOfTimes90DaysLate               1307 non-null   int64  \n",
      " 8   NumberRealEstateLoansOrLines          1307 non-null   int64  \n",
      " 9   NumberOfTime60-89DaysPastDueNotWorse  1307 non-null   int64  \n",
      " 10  NumberOfDependents                    1307 non-null   float64\n",
      "dtypes: float64(4), int64(7)\n",
      "memory usage: 122.5 KB\n"
     ]
    }
   ],
   "source": [
    "df.info()"
   ]
  },
  {
   "cell_type": "code",
   "execution_count": 30,
   "metadata": {},
   "outputs": [],
   "source": [
    "df.dropna(inplace=True)"
   ]
  },
  {
   "cell_type": "code",
   "execution_count": 32,
   "metadata": {},
   "outputs": [],
   "source": [
    "y = df['SeriousDlqin2yrs']\n",
    "X = df.copy()\n",
    "X.drop('SeriousDlqin2yrs', inplace=True, axis=1)"
   ]
  },
  {
   "cell_type": "code",
   "execution_count": 33,
   "metadata": {},
   "outputs": [],
   "source": [
    "from sklearn.model_selection import train_test_split\n",
    "\n",
    "X_train, X_test, y_train, y_test = train_test_split(X, y, test_size=0.3, random_state=42)"
   ]
  },
  {
   "cell_type": "code",
   "execution_count": 3,
   "metadata": {},
   "outputs": [
    {
     "data": {
      "text/html": [
       "<style  type=\"text/css\" >\n",
       "#T_0fa6b16c_7bd2_11eb_8b6e_08002774ef73row0_col0,#T_0fa6b16c_7bd2_11eb_8b6e_08002774ef73row1_col1,#T_0fa6b16c_7bd2_11eb_8b6e_08002774ef73row2_col2,#T_0fa6b16c_7bd2_11eb_8b6e_08002774ef73row3_col3,#T_0fa6b16c_7bd2_11eb_8b6e_08002774ef73row4_col4,#T_0fa6b16c_7bd2_11eb_8b6e_08002774ef73row5_col5,#T_0fa6b16c_7bd2_11eb_8b6e_08002774ef73row6_col6,#T_0fa6b16c_7bd2_11eb_8b6e_08002774ef73row7_col7,#T_0fa6b16c_7bd2_11eb_8b6e_08002774ef73row8_col8,#T_0fa6b16c_7bd2_11eb_8b6e_08002774ef73row9_col9,#T_0fa6b16c_7bd2_11eb_8b6e_08002774ef73row10_col10,#T_0fa6b16c_7bd2_11eb_8b6e_08002774ef73row11_col11{\n",
       "            background-color:  #b40426;\n",
       "            color:  #f1f1f1;\n",
       "        }#T_0fa6b16c_7bd2_11eb_8b6e_08002774ef73row0_col1{\n",
       "            background-color:  #5572df;\n",
       "            color:  #000000;\n",
       "        }#T_0fa6b16c_7bd2_11eb_8b6e_08002774ef73row0_col2,#T_0fa6b16c_7bd2_11eb_8b6e_08002774ef73row3_col1,#T_0fa6b16c_7bd2_11eb_8b6e_08002774ef73row3_col4,#T_0fa6b16c_7bd2_11eb_8b6e_08002774ef73row3_col11,#T_0fa6b16c_7bd2_11eb_8b6e_08002774ef73row5_col6,#T_0fa6b16c_7bd2_11eb_8b6e_08002774ef73row6_col0,#T_0fa6b16c_7bd2_11eb_8b6e_08002774ef73row6_col5,#T_0fa6b16c_7bd2_11eb_8b6e_08002774ef73row6_col10,#T_0fa6b16c_7bd2_11eb_8b6e_08002774ef73row7_col8,#T_0fa6b16c_7bd2_11eb_8b6e_08002774ef73row8_col7,#T_0fa6b16c_7bd2_11eb_8b6e_08002774ef73row8_col9,#T_0fa6b16c_7bd2_11eb_8b6e_08002774ef73row11_col3,#T_0fa6b16c_7bd2_11eb_8b6e_08002774ef73row11_col5{\n",
       "            background-color:  #3b4cc0;\n",
       "            color:  #f1f1f1;\n",
       "        }#T_0fa6b16c_7bd2_11eb_8b6e_08002774ef73row0_col3,#T_0fa6b16c_7bd2_11eb_8b6e_08002774ef73row3_col7,#T_0fa6b16c_7bd2_11eb_8b6e_08002774ef73row5_col3{\n",
       "            background-color:  #779af7;\n",
       "            color:  #000000;\n",
       "        }#T_0fa6b16c_7bd2_11eb_8b6e_08002774ef73row0_col4,#T_0fa6b16c_7bd2_11eb_8b6e_08002774ef73row2_col0,#T_0fa6b16c_7bd2_11eb_8b6e_08002774ef73row10_col6{\n",
       "            background-color:  #4257c9;\n",
       "            color:  #f1f1f1;\n",
       "        }#T_0fa6b16c_7bd2_11eb_8b6e_08002774ef73row0_col5,#T_0fa6b16c_7bd2_11eb_8b6e_08002774ef73row6_col4{\n",
       "            background-color:  #536edd;\n",
       "            color:  #000000;\n",
       "        }#T_0fa6b16c_7bd2_11eb_8b6e_08002774ef73row0_col6,#T_0fa6b16c_7bd2_11eb_8b6e_08002774ef73row3_col8,#T_0fa6b16c_7bd2_11eb_8b6e_08002774ef73row6_col2{\n",
       "            background-color:  #4055c8;\n",
       "            color:  #f1f1f1;\n",
       "        }#T_0fa6b16c_7bd2_11eb_8b6e_08002774ef73row0_col7,#T_0fa6b16c_7bd2_11eb_8b6e_08002774ef73row5_col1{\n",
       "            background-color:  #4f69d9;\n",
       "            color:  #000000;\n",
       "        }#T_0fa6b16c_7bd2_11eb_8b6e_08002774ef73row0_col8,#T_0fa6b16c_7bd2_11eb_8b6e_08002774ef73row0_col9,#T_0fa6b16c_7bd2_11eb_8b6e_08002774ef73row2_col6,#T_0fa6b16c_7bd2_11eb_8b6e_08002774ef73row3_col9,#T_0fa6b16c_7bd2_11eb_8b6e_08002774ef73row11_col10{\n",
       "            background-color:  #506bda;\n",
       "            color:  #000000;\n",
       "        }#T_0fa6b16c_7bd2_11eb_8b6e_08002774ef73row0_col10,#T_0fa6b16c_7bd2_11eb_8b6e_08002774ef73row2_col5,#T_0fa6b16c_7bd2_11eb_8b6e_08002774ef73row4_col5,#T_0fa6b16c_7bd2_11eb_8b6e_08002774ef73row8_col2,#T_0fa6b16c_7bd2_11eb_8b6e_08002774ef73row10_col0{\n",
       "            background-color:  #4b64d5;\n",
       "            color:  #f1f1f1;\n",
       "        }#T_0fa6b16c_7bd2_11eb_8b6e_08002774ef73row0_col11,#T_0fa6b16c_7bd2_11eb_8b6e_08002774ef73row4_col7,#T_0fa6b16c_7bd2_11eb_8b6e_08002774ef73row11_col6{\n",
       "            background-color:  #6f92f3;\n",
       "            color:  #000000;\n",
       "        }#T_0fa6b16c_7bd2_11eb_8b6e_08002774ef73row1_col0,#T_0fa6b16c_7bd2_11eb_8b6e_08002774ef73row1_col5,#T_0fa6b16c_7bd2_11eb_8b6e_08002774ef73row5_col0,#T_0fa6b16c_7bd2_11eb_8b6e_08002774ef73row8_col5,#T_0fa6b16c_7bd2_11eb_8b6e_08002774ef73row10_col7,#T_0fa6b16c_7bd2_11eb_8b6e_08002774ef73row10_col9{\n",
       "            background-color:  #4c66d6;\n",
       "            color:  #000000;\n",
       "        }#T_0fa6b16c_7bd2_11eb_8b6e_08002774ef73row1_col2,#T_0fa6b16c_7bd2_11eb_8b6e_08002774ef73row2_col9{\n",
       "            background-color:  #5470de;\n",
       "            color:  #000000;\n",
       "        }#T_0fa6b16c_7bd2_11eb_8b6e_08002774ef73row1_col3{\n",
       "            background-color:  #5875e1;\n",
       "            color:  #000000;\n",
       "        }#T_0fa6b16c_7bd2_11eb_8b6e_08002774ef73row1_col4{\n",
       "            background-color:  #9abbff;\n",
       "            color:  #000000;\n",
       "        }#T_0fa6b16c_7bd2_11eb_8b6e_08002774ef73row1_col6,#T_0fa6b16c_7bd2_11eb_8b6e_08002774ef73row7_col0,#T_0fa6b16c_7bd2_11eb_8b6e_08002774ef73row9_col10{\n",
       "            background-color:  #465ecf;\n",
       "            color:  #f1f1f1;\n",
       "        }#T_0fa6b16c_7bd2_11eb_8b6e_08002774ef73row1_col7,#T_0fa6b16c_7bd2_11eb_8b6e_08002774ef73row5_col7,#T_0fa6b16c_7bd2_11eb_8b6e_08002774ef73row7_col1,#T_0fa6b16c_7bd2_11eb_8b6e_08002774ef73row9_col1,#T_0fa6b16c_7bd2_11eb_8b6e_08002774ef73row11_col1{\n",
       "            background-color:  #6180e9;\n",
       "            color:  #000000;\n",
       "        }#T_0fa6b16c_7bd2_11eb_8b6e_08002774ef73row1_col8,#T_0fa6b16c_7bd2_11eb_8b6e_08002774ef73row8_col1{\n",
       "            background-color:  #96b7ff;\n",
       "            color:  #000000;\n",
       "        }#T_0fa6b16c_7bd2_11eb_8b6e_08002774ef73row1_col9,#T_0fa6b16c_7bd2_11eb_8b6e_08002774ef73row2_col8,#T_0fa6b16c_7bd2_11eb_8b6e_08002774ef73row8_col3{\n",
       "            background-color:  #5d7ce6;\n",
       "            color:  #000000;\n",
       "        }#T_0fa6b16c_7bd2_11eb_8b6e_08002774ef73row1_col10{\n",
       "            background-color:  #b5cdfa;\n",
       "            color:  #000000;\n",
       "        }#T_0fa6b16c_7bd2_11eb_8b6e_08002774ef73row1_col11{\n",
       "            background-color:  #7da0f9;\n",
       "            color:  #000000;\n",
       "        }#T_0fa6b16c_7bd2_11eb_8b6e_08002774ef73row2_col1,#T_0fa6b16c_7bd2_11eb_8b6e_08002774ef73row7_col4{\n",
       "            background-color:  #6485ec;\n",
       "            color:  #000000;\n",
       "        }#T_0fa6b16c_7bd2_11eb_8b6e_08002774ef73row2_col3{\n",
       "            background-color:  #6c8ff1;\n",
       "            color:  #000000;\n",
       "        }#T_0fa6b16c_7bd2_11eb_8b6e_08002774ef73row2_col4,#T_0fa6b16c_7bd2_11eb_8b6e_08002774ef73row5_col4{\n",
       "            background-color:  #4358cb;\n",
       "            color:  #f1f1f1;\n",
       "        }#T_0fa6b16c_7bd2_11eb_8b6e_08002774ef73row2_col7,#T_0fa6b16c_7bd2_11eb_8b6e_08002774ef73row5_col8{\n",
       "            background-color:  #4e68d8;\n",
       "            color:  #000000;\n",
       "        }#T_0fa6b16c_7bd2_11eb_8b6e_08002774ef73row2_col10,#T_0fa6b16c_7bd2_11eb_8b6e_08002774ef73row8_col6,#T_0fa6b16c_7bd2_11eb_8b6e_08002774ef73row9_col2{\n",
       "            background-color:  #455cce;\n",
       "            color:  #f1f1f1;\n",
       "        }#T_0fa6b16c_7bd2_11eb_8b6e_08002774ef73row2_col11,#T_0fa6b16c_7bd2_11eb_8b6e_08002774ef73row10_col11{\n",
       "            background-color:  #7699f6;\n",
       "            color:  #000000;\n",
       "        }#T_0fa6b16c_7bd2_11eb_8b6e_08002774ef73row3_col0,#T_0fa6b16c_7bd2_11eb_8b6e_08002774ef73row5_col10{\n",
       "            background-color:  #516ddb;\n",
       "            color:  #000000;\n",
       "        }#T_0fa6b16c_7bd2_11eb_8b6e_08002774ef73row3_col2,#T_0fa6b16c_7bd2_11eb_8b6e_08002774ef73row3_col10,#T_0fa6b16c_7bd2_11eb_8b6e_08002774ef73row10_col2{\n",
       "            background-color:  #3e51c5;\n",
       "            color:  #f1f1f1;\n",
       "        }#T_0fa6b16c_7bd2_11eb_8b6e_08002774ef73row3_col5,#T_0fa6b16c_7bd2_11eb_8b6e_08002774ef73row5_col11,#T_0fa6b16c_7bd2_11eb_8b6e_08002774ef73row10_col5{\n",
       "            background-color:  #5977e3;\n",
       "            color:  #000000;\n",
       "        }#T_0fa6b16c_7bd2_11eb_8b6e_08002774ef73row3_col6,#T_0fa6b16c_7bd2_11eb_8b6e_08002774ef73row4_col6{\n",
       "            background-color:  #5a78e4;\n",
       "            color:  #000000;\n",
       "        }#T_0fa6b16c_7bd2_11eb_8b6e_08002774ef73row4_col0,#T_0fa6b16c_7bd2_11eb_8b6e_08002774ef73row7_col10{\n",
       "            background-color:  #445acc;\n",
       "            color:  #f1f1f1;\n",
       "        }#T_0fa6b16c_7bd2_11eb_8b6e_08002774ef73row4_col1{\n",
       "            background-color:  #a2c1ff;\n",
       "            color:  #000000;\n",
       "        }#T_0fa6b16c_7bd2_11eb_8b6e_08002774ef73row4_col2,#T_0fa6b16c_7bd2_11eb_8b6e_08002774ef73row5_col2{\n",
       "            background-color:  #3c4ec2;\n",
       "            color:  #f1f1f1;\n",
       "        }#T_0fa6b16c_7bd2_11eb_8b6e_08002774ef73row4_col3,#T_0fa6b16c_7bd2_11eb_8b6e_08002774ef73row9_col4{\n",
       "            background-color:  #6282ea;\n",
       "            color:  #000000;\n",
       "        }#T_0fa6b16c_7bd2_11eb_8b6e_08002774ef73row4_col8{\n",
       "            background-color:  #a6c4fe;\n",
       "            color:  #000000;\n",
       "        }#T_0fa6b16c_7bd2_11eb_8b6e_08002774ef73row4_col9{\n",
       "            background-color:  #688aef;\n",
       "            color:  #000000;\n",
       "        }#T_0fa6b16c_7bd2_11eb_8b6e_08002774ef73row4_col10{\n",
       "            background-color:  #dbdcde;\n",
       "            color:  #000000;\n",
       "        }#T_0fa6b16c_7bd2_11eb_8b6e_08002774ef73row4_col11{\n",
       "            background-color:  #7ea1fa;\n",
       "            color:  #000000;\n",
       "        }#T_0fa6b16c_7bd2_11eb_8b6e_08002774ef73row5_col9{\n",
       "            background-color:  #8badfd;\n",
       "            color:  #000000;\n",
       "        }#T_0fa6b16c_7bd2_11eb_8b6e_08002774ef73row6_col1,#T_0fa6b16c_7bd2_11eb_8b6e_08002774ef73row11_col0,#T_0fa6b16c_7bd2_11eb_8b6e_08002774ef73row11_col2{\n",
       "            background-color:  #4961d2;\n",
       "            color:  #f1f1f1;\n",
       "        }#T_0fa6b16c_7bd2_11eb_8b6e_08002774ef73row6_col3,#T_0fa6b16c_7bd2_11eb_8b6e_08002774ef73row7_col6{\n",
       "            background-color:  #799cf8;\n",
       "            color:  #000000;\n",
       "        }#T_0fa6b16c_7bd2_11eb_8b6e_08002774ef73row6_col7{\n",
       "            background-color:  #7b9ff9;\n",
       "            color:  #000000;\n",
       "        }#T_0fa6b16c_7bd2_11eb_8b6e_08002774ef73row6_col8,#T_0fa6b16c_7bd2_11eb_8b6e_08002774ef73row8_col0{\n",
       "            background-color:  #485fd1;\n",
       "            color:  #f1f1f1;\n",
       "        }#T_0fa6b16c_7bd2_11eb_8b6e_08002774ef73row6_col9{\n",
       "            background-color:  #84a7fc;\n",
       "            color:  #000000;\n",
       "        }#T_0fa6b16c_7bd2_11eb_8b6e_08002774ef73row6_col11,#T_0fa6b16c_7bd2_11eb_8b6e_08002774ef73row9_col5{\n",
       "            background-color:  #8caffe;\n",
       "            color:  #000000;\n",
       "        }#T_0fa6b16c_7bd2_11eb_8b6e_08002774ef73row7_col2,#T_0fa6b16c_7bd2_11eb_8b6e_08002774ef73row9_col8{\n",
       "            background-color:  #3d50c3;\n",
       "            color:  #f1f1f1;\n",
       "        }#T_0fa6b16c_7bd2_11eb_8b6e_08002774ef73row7_col3{\n",
       "            background-color:  #92b4fe;\n",
       "            color:  #000000;\n",
       "        }#T_0fa6b16c_7bd2_11eb_8b6e_08002774ef73row7_col5{\n",
       "            background-color:  #5f7fe8;\n",
       "            color:  #000000;\n",
       "        }#T_0fa6b16c_7bd2_11eb_8b6e_08002774ef73row7_col9{\n",
       "            background-color:  #d5dbe5;\n",
       "            color:  #000000;\n",
       "        }#T_0fa6b16c_7bd2_11eb_8b6e_08002774ef73row7_col11,#T_0fa6b16c_7bd2_11eb_8b6e_08002774ef73row9_col6{\n",
       "            background-color:  #85a8fc;\n",
       "            color:  #000000;\n",
       "        }#T_0fa6b16c_7bd2_11eb_8b6e_08002774ef73row8_col4{\n",
       "            background-color:  #9dbdff;\n",
       "            color:  #000000;\n",
       "        }#T_0fa6b16c_7bd2_11eb_8b6e_08002774ef73row8_col10{\n",
       "            background-color:  #d8dce2;\n",
       "            color:  #000000;\n",
       "        }#T_0fa6b16c_7bd2_11eb_8b6e_08002774ef73row8_col11{\n",
       "            background-color:  #7295f4;\n",
       "            color:  #000000;\n",
       "        }#T_0fa6b16c_7bd2_11eb_8b6e_08002774ef73row9_col0{\n",
       "            background-color:  #4a63d3;\n",
       "            color:  #f1f1f1;\n",
       "        }#T_0fa6b16c_7bd2_11eb_8b6e_08002774ef73row9_col3,#T_0fa6b16c_7bd2_11eb_8b6e_08002774ef73row11_col9{\n",
       "            background-color:  #7093f3;\n",
       "            color:  #000000;\n",
       "        }#T_0fa6b16c_7bd2_11eb_8b6e_08002774ef73row9_col7{\n",
       "            background-color:  #d6dce4;\n",
       "            color:  #000000;\n",
       "        }#T_0fa6b16c_7bd2_11eb_8b6e_08002774ef73row9_col11{\n",
       "            background-color:  #8fb1fe;\n",
       "            color:  #000000;\n",
       "        }#T_0fa6b16c_7bd2_11eb_8b6e_08002774ef73row10_col1{\n",
       "            background-color:  #bbd1f8;\n",
       "            color:  #000000;\n",
       "        }#T_0fa6b16c_7bd2_11eb_8b6e_08002774ef73row10_col3{\n",
       "            background-color:  #6384eb;\n",
       "            color:  #000000;\n",
       "        }#T_0fa6b16c_7bd2_11eb_8b6e_08002774ef73row10_col4{\n",
       "            background-color:  #dadce0;\n",
       "            color:  #000000;\n",
       "        }#T_0fa6b16c_7bd2_11eb_8b6e_08002774ef73row10_col8{\n",
       "            background-color:  #dcdddd;\n",
       "            color:  #000000;\n",
       "        }#T_0fa6b16c_7bd2_11eb_8b6e_08002774ef73row11_col4,#T_0fa6b16c_7bd2_11eb_8b6e_08002774ef73row11_col8{\n",
       "            background-color:  #5673e0;\n",
       "            color:  #000000;\n",
       "        }#T_0fa6b16c_7bd2_11eb_8b6e_08002774ef73row11_col7{\n",
       "            background-color:  #6a8bef;\n",
       "            color:  #000000;\n",
       "        }</style><table id=\"T_0fa6b16c_7bd2_11eb_8b6e_08002774ef73\" ><thead>    <tr>        <th class=\"blank level0\" ></th>        <th class=\"col_heading level0 col0\" >Id</th>        <th class=\"col_heading level0 col1\" >SeriousDlqin2yrs</th>        <th class=\"col_heading level0 col2\" >RevolvingUtilizationOfUnsecuredLines</th>        <th class=\"col_heading level0 col3\" >age</th>        <th class=\"col_heading level0 col4\" >NumberOfTime30-59DaysPastDueNotWorse</th>        <th class=\"col_heading level0 col5\" >DebtRatio</th>        <th class=\"col_heading level0 col6\" >MonthlyIncome</th>        <th class=\"col_heading level0 col7\" >NumberOfOpenCreditLinesAndLoans</th>        <th class=\"col_heading level0 col8\" >NumberOfTimes90DaysLate</th>        <th class=\"col_heading level0 col9\" >NumberRealEstateLoansOrLines</th>        <th class=\"col_heading level0 col10\" >NumberOfTime60-89DaysPastDueNotWorse</th>        <th class=\"col_heading level0 col11\" >NumberOfDependents</th>    </tr></thead><tbody>\n",
       "                <tr>\n",
       "                        <th id=\"T_0fa6b16c_7bd2_11eb_8b6e_08002774ef73level0_row0\" class=\"row_heading level0 row0\" >Id</th>\n",
       "                        <td id=\"T_0fa6b16c_7bd2_11eb_8b6e_08002774ef73row0_col0\" class=\"data row0 col0\" >1.000000</td>\n",
       "                        <td id=\"T_0fa6b16c_7bd2_11eb_8b6e_08002774ef73row0_col1\" class=\"data row0 col1\" >0.015939</td>\n",
       "                        <td id=\"T_0fa6b16c_7bd2_11eb_8b6e_08002774ef73row0_col2\" class=\"data row0 col2\" >-0.018985</td>\n",
       "                        <td id=\"T_0fa6b16c_7bd2_11eb_8b6e_08002774ef73row0_col3\" class=\"data row0 col3\" >0.033593</td>\n",
       "                        <td id=\"T_0fa6b16c_7bd2_11eb_8b6e_08002774ef73row0_col4\" class=\"data row0 col4\" >-0.013057</td>\n",
       "                        <td id=\"T_0fa6b16c_7bd2_11eb_8b6e_08002774ef73row0_col5\" class=\"data row0 col5\" >0.015285</td>\n",
       "                        <td id=\"T_0fa6b16c_7bd2_11eb_8b6e_08002774ef73row0_col6\" class=\"data row0 col6\" >-0.047490</td>\n",
       "                        <td id=\"T_0fa6b16c_7bd2_11eb_8b6e_08002774ef73row0_col7\" class=\"data row0 col7\" >-0.005462</td>\n",
       "                        <td id=\"T_0fa6b16c_7bd2_11eb_8b6e_08002774ef73row0_col8\" class=\"data row0 col8\" >0.000485</td>\n",
       "                        <td id=\"T_0fa6b16c_7bd2_11eb_8b6e_08002774ef73row0_col9\" class=\"data row0 col9\" >0.008817</td>\n",
       "                        <td id=\"T_0fa6b16c_7bd2_11eb_8b6e_08002774ef73row0_col10\" class=\"data row0 col10\" >0.013869</td>\n",
       "                        <td id=\"T_0fa6b16c_7bd2_11eb_8b6e_08002774ef73row0_col11\" class=\"data row0 col11\" >0.005307</td>\n",
       "            </tr>\n",
       "            <tr>\n",
       "                        <th id=\"T_0fa6b16c_7bd2_11eb_8b6e_08002774ef73level0_row1\" class=\"row_heading level0 row1\" >SeriousDlqin2yrs</th>\n",
       "                        <td id=\"T_0fa6b16c_7bd2_11eb_8b6e_08002774ef73row1_col0\" class=\"data row1 col0\" >0.015939</td>\n",
       "                        <td id=\"T_0fa6b16c_7bd2_11eb_8b6e_08002774ef73row1_col1\" class=\"data row1 col1\" >1.000000</td>\n",
       "                        <td id=\"T_0fa6b16c_7bd2_11eb_8b6e_08002774ef73row1_col2\" class=\"data row1 col2\" >0.067258</td>\n",
       "                        <td id=\"T_0fa6b16c_7bd2_11eb_8b6e_08002774ef73row1_col3\" class=\"data row1 col3\" >-0.078362</td>\n",
       "                        <td id=\"T_0fa6b16c_7bd2_11eb_8b6e_08002774ef73row1_col4\" class=\"data row1 col4\" >0.257848</td>\n",
       "                        <td id=\"T_0fa6b16c_7bd2_11eb_8b6e_08002774ef73row1_col5\" class=\"data row1 col5\" >-0.005901</td>\n",
       "                        <td id=\"T_0fa6b16c_7bd2_11eb_8b6e_08002774ef73row1_col6\" class=\"data row1 col6\" >-0.026058</td>\n",
       "                        <td id=\"T_0fa6b16c_7bd2_11eb_8b6e_08002774ef73row1_col7\" class=\"data row1 col7\" >0.054651</td>\n",
       "                        <td id=\"T_0fa6b16c_7bd2_11eb_8b6e_08002774ef73row1_col8\" class=\"data row1 col8\" >0.219706</td>\n",
       "                        <td id=\"T_0fa6b16c_7bd2_11eb_8b6e_08002774ef73row1_col9\" class=\"data row1 col9\" >0.052850</td>\n",
       "                        <td id=\"T_0fa6b16c_7bd2_11eb_8b6e_08002774ef73row1_col10\" class=\"data row1 col10\" >0.335480</td>\n",
       "                        <td id=\"T_0fa6b16c_7bd2_11eb_8b6e_08002774ef73row1_col11\" class=\"data row1 col11\" >0.055352</td>\n",
       "            </tr>\n",
       "            <tr>\n",
       "                        <th id=\"T_0fa6b16c_7bd2_11eb_8b6e_08002774ef73level0_row2\" class=\"row_heading level0 row2\" >RevolvingUtilizationOfUnsecuredLines</th>\n",
       "                        <td id=\"T_0fa6b16c_7bd2_11eb_8b6e_08002774ef73row2_col0\" class=\"data row2 col0\" >-0.018985</td>\n",
       "                        <td id=\"T_0fa6b16c_7bd2_11eb_8b6e_08002774ef73row2_col1\" class=\"data row2 col1\" >0.067258</td>\n",
       "                        <td id=\"T_0fa6b16c_7bd2_11eb_8b6e_08002774ef73row2_col2\" class=\"data row2 col2\" >1.000000</td>\n",
       "                        <td id=\"T_0fa6b16c_7bd2_11eb_8b6e_08002774ef73row2_col3\" class=\"data row2 col3\" >-0.003412</td>\n",
       "                        <td id=\"T_0fa6b16c_7bd2_11eb_8b6e_08002774ef73row2_col4\" class=\"data row2 col4\" >-0.012112</td>\n",
       "                        <td id=\"T_0fa6b16c_7bd2_11eb_8b6e_08002774ef73row2_col5\" class=\"data row2 col5\" >-0.011758</td>\n",
       "                        <td id=\"T_0fa6b16c_7bd2_11eb_8b6e_08002774ef73row2_col6\" class=\"data row2 col6\" >0.004136</td>\n",
       "                        <td id=\"T_0fa6b16c_7bd2_11eb_8b6e_08002774ef73row2_col7\" class=\"data row2 col7\" >-0.007857</td>\n",
       "                        <td id=\"T_0fa6b16c_7bd2_11eb_8b6e_08002774ef73row2_col8\" class=\"data row2 col8\" >0.040691</td>\n",
       "                        <td id=\"T_0fa6b16c_7bd2_11eb_8b6e_08002774ef73row2_col9\" class=\"data row2 col9\" >0.020441</td>\n",
       "                        <td id=\"T_0fa6b16c_7bd2_11eb_8b6e_08002774ef73row2_col10\" class=\"data row2 col10\" >-0.006878</td>\n",
       "                        <td id=\"T_0fa6b16c_7bd2_11eb_8b6e_08002774ef73row2_col11\" class=\"data row2 col11\" >0.028833</td>\n",
       "            </tr>\n",
       "            <tr>\n",
       "                        <th id=\"T_0fa6b16c_7bd2_11eb_8b6e_08002774ef73level0_row3\" class=\"row_heading level0 row3\" >age</th>\n",
       "                        <td id=\"T_0fa6b16c_7bd2_11eb_8b6e_08002774ef73row3_col0\" class=\"data row3 col0\" >0.033593</td>\n",
       "                        <td id=\"T_0fa6b16c_7bd2_11eb_8b6e_08002774ef73row3_col1\" class=\"data row3 col1\" >-0.078362</td>\n",
       "                        <td id=\"T_0fa6b16c_7bd2_11eb_8b6e_08002774ef73row3_col2\" class=\"data row3 col2\" >-0.003412</td>\n",
       "                        <td id=\"T_0fa6b16c_7bd2_11eb_8b6e_08002774ef73row3_col3\" class=\"data row3 col3\" >1.000000</td>\n",
       "                        <td id=\"T_0fa6b16c_7bd2_11eb_8b6e_08002774ef73row3_col4\" class=\"data row3 col4\" >-0.040865</td>\n",
       "                        <td id=\"T_0fa6b16c_7bd2_11eb_8b6e_08002774ef73row3_col5\" class=\"data row3 col5\" >0.034605</td>\n",
       "                        <td id=\"T_0fa6b16c_7bd2_11eb_8b6e_08002774ef73row3_col6\" class=\"data row3 col6\" >0.040001</td>\n",
       "                        <td id=\"T_0fa6b16c_7bd2_11eb_8b6e_08002774ef73row3_col7\" class=\"data row3 col7\" >0.125298</td>\n",
       "                        <td id=\"T_0fa6b16c_7bd2_11eb_8b6e_08002774ef73row3_col8\" class=\"data row3 col8\" >-0.055766</td>\n",
       "                        <td id=\"T_0fa6b16c_7bd2_11eb_8b6e_08002774ef73row3_col9\" class=\"data row3 col9\" >0.011650</td>\n",
       "                        <td id=\"T_0fa6b16c_7bd2_11eb_8b6e_08002774ef73row3_col10\" class=\"data row3 col10\" >-0.033527</td>\n",
       "                        <td id=\"T_0fa6b16c_7bd2_11eb_8b6e_08002774ef73row3_col11\" class=\"data row3 col11\" >-0.190353</td>\n",
       "            </tr>\n",
       "            <tr>\n",
       "                        <th id=\"T_0fa6b16c_7bd2_11eb_8b6e_08002774ef73level0_row4\" class=\"row_heading level0 row4\" >NumberOfTime30-59DaysPastDueNotWorse</th>\n",
       "                        <td id=\"T_0fa6b16c_7bd2_11eb_8b6e_08002774ef73row4_col0\" class=\"data row4 col0\" >-0.013057</td>\n",
       "                        <td id=\"T_0fa6b16c_7bd2_11eb_8b6e_08002774ef73row4_col1\" class=\"data row4 col1\" >0.257848</td>\n",
       "                        <td id=\"T_0fa6b16c_7bd2_11eb_8b6e_08002774ef73row4_col2\" class=\"data row4 col2\" >-0.012112</td>\n",
       "                        <td id=\"T_0fa6b16c_7bd2_11eb_8b6e_08002774ef73row4_col3\" class=\"data row4 col3\" >-0.040865</td>\n",
       "                        <td id=\"T_0fa6b16c_7bd2_11eb_8b6e_08002774ef73row4_col4\" class=\"data row4 col4\" >1.000000</td>\n",
       "                        <td id=\"T_0fa6b16c_7bd2_11eb_8b6e_08002774ef73row4_col5\" class=\"data row4 col5\" >-0.011656</td>\n",
       "                        <td id=\"T_0fa6b16c_7bd2_11eb_8b6e_08002774ef73row4_col6\" class=\"data row4 col6\" >0.040565</td>\n",
       "                        <td id=\"T_0fa6b16c_7bd2_11eb_8b6e_08002774ef73row4_col7\" class=\"data row4 col7\" >0.099192</td>\n",
       "                        <td id=\"T_0fa6b16c_7bd2_11eb_8b6e_08002774ef73row4_col8\" class=\"data row4 col8\" >0.267482</td>\n",
       "                        <td id=\"T_0fa6b16c_7bd2_11eb_8b6e_08002774ef73row4_col9\" class=\"data row4 col9\" >0.089616</td>\n",
       "                        <td id=\"T_0fa6b16c_7bd2_11eb_8b6e_08002774ef73row4_col10\" class=\"data row4 col10\" >0.470769</td>\n",
       "                        <td id=\"T_0fa6b16c_7bd2_11eb_8b6e_08002774ef73row4_col11\" class=\"data row4 col11\" >0.056531</td>\n",
       "            </tr>\n",
       "            <tr>\n",
       "                        <th id=\"T_0fa6b16c_7bd2_11eb_8b6e_08002774ef73level0_row5\" class=\"row_heading level0 row5\" >DebtRatio</th>\n",
       "                        <td id=\"T_0fa6b16c_7bd2_11eb_8b6e_08002774ef73row5_col0\" class=\"data row5 col0\" >0.015285</td>\n",
       "                        <td id=\"T_0fa6b16c_7bd2_11eb_8b6e_08002774ef73row5_col1\" class=\"data row5 col1\" >-0.005901</td>\n",
       "                        <td id=\"T_0fa6b16c_7bd2_11eb_8b6e_08002774ef73row5_col2\" class=\"data row5 col2\" >-0.011758</td>\n",
       "                        <td id=\"T_0fa6b16c_7bd2_11eb_8b6e_08002774ef73row5_col3\" class=\"data row5 col3\" >0.034605</td>\n",
       "                        <td id=\"T_0fa6b16c_7bd2_11eb_8b6e_08002774ef73row5_col4\" class=\"data row5 col4\" >-0.011656</td>\n",
       "                        <td id=\"T_0fa6b16c_7bd2_11eb_8b6e_08002774ef73row5_col5\" class=\"data row5 col5\" >1.000000</td>\n",
       "                        <td id=\"T_0fa6b16c_7bd2_11eb_8b6e_08002774ef73row5_col6\" class=\"data row5 col6\" >-0.071518</td>\n",
       "                        <td id=\"T_0fa6b16c_7bd2_11eb_8b6e_08002774ef73row5_col7\" class=\"data row5 col7\" >0.053231</td>\n",
       "                        <td id=\"T_0fa6b16c_7bd2_11eb_8b6e_08002774ef73row5_col8\" class=\"data row5 col8\" >-0.008979</td>\n",
       "                        <td id=\"T_0fa6b16c_7bd2_11eb_8b6e_08002774ef73row5_col9\" class=\"data row5 col9\" >0.194535</td>\n",
       "                        <td id=\"T_0fa6b16c_7bd2_11eb_8b6e_08002774ef73row5_col10\" class=\"data row5 col10\" >0.033088</td>\n",
       "                        <td id=\"T_0fa6b16c_7bd2_11eb_8b6e_08002774ef73row5_col11\" class=\"data row5 col11\" >-0.072604</td>\n",
       "            </tr>\n",
       "            <tr>\n",
       "                        <th id=\"T_0fa6b16c_7bd2_11eb_8b6e_08002774ef73level0_row6\" class=\"row_heading level0 row6\" >MonthlyIncome</th>\n",
       "                        <td id=\"T_0fa6b16c_7bd2_11eb_8b6e_08002774ef73row6_col0\" class=\"data row6 col0\" >-0.047490</td>\n",
       "                        <td id=\"T_0fa6b16c_7bd2_11eb_8b6e_08002774ef73row6_col1\" class=\"data row6 col1\" >-0.026058</td>\n",
       "                        <td id=\"T_0fa6b16c_7bd2_11eb_8b6e_08002774ef73row6_col2\" class=\"data row6 col2\" >0.004136</td>\n",
       "                        <td id=\"T_0fa6b16c_7bd2_11eb_8b6e_08002774ef73row6_col3\" class=\"data row6 col3\" >0.040001</td>\n",
       "                        <td id=\"T_0fa6b16c_7bd2_11eb_8b6e_08002774ef73row6_col4\" class=\"data row6 col4\" >0.040565</td>\n",
       "                        <td id=\"T_0fa6b16c_7bd2_11eb_8b6e_08002774ef73row6_col5\" class=\"data row6 col5\" >-0.071518</td>\n",
       "                        <td id=\"T_0fa6b16c_7bd2_11eb_8b6e_08002774ef73row6_col6\" class=\"data row6 col6\" >1.000000</td>\n",
       "                        <td id=\"T_0fa6b16c_7bd2_11eb_8b6e_08002774ef73row6_col7\" class=\"data row6 col7\" >0.137226</td>\n",
       "                        <td id=\"T_0fa6b16c_7bd2_11eb_8b6e_08002774ef73row6_col8\" class=\"data row6 col8\" >-0.031213</td>\n",
       "                        <td id=\"T_0fa6b16c_7bd2_11eb_8b6e_08002774ef73row6_col9\" class=\"data row6 col9\" >0.171848</td>\n",
       "                        <td id=\"T_0fa6b16c_7bd2_11eb_8b6e_08002774ef73row6_col10\" class=\"data row6 col10\" >-0.046064</td>\n",
       "                        <td id=\"T_0fa6b16c_7bd2_11eb_8b6e_08002774ef73row6_col11\" class=\"data row6 col11\" >0.105771</td>\n",
       "            </tr>\n",
       "            <tr>\n",
       "                        <th id=\"T_0fa6b16c_7bd2_11eb_8b6e_08002774ef73level0_row7\" class=\"row_heading level0 row7\" >NumberOfOpenCreditLinesAndLoans</th>\n",
       "                        <td id=\"T_0fa6b16c_7bd2_11eb_8b6e_08002774ef73row7_col0\" class=\"data row7 col0\" >-0.005462</td>\n",
       "                        <td id=\"T_0fa6b16c_7bd2_11eb_8b6e_08002774ef73row7_col1\" class=\"data row7 col1\" >0.054651</td>\n",
       "                        <td id=\"T_0fa6b16c_7bd2_11eb_8b6e_08002774ef73row7_col2\" class=\"data row7 col2\" >-0.007857</td>\n",
       "                        <td id=\"T_0fa6b16c_7bd2_11eb_8b6e_08002774ef73row7_col3\" class=\"data row7 col3\" >0.125298</td>\n",
       "                        <td id=\"T_0fa6b16c_7bd2_11eb_8b6e_08002774ef73row7_col4\" class=\"data row7 col4\" >0.099192</td>\n",
       "                        <td id=\"T_0fa6b16c_7bd2_11eb_8b6e_08002774ef73row7_col5\" class=\"data row7 col5\" >0.053231</td>\n",
       "                        <td id=\"T_0fa6b16c_7bd2_11eb_8b6e_08002774ef73row7_col6\" class=\"data row7 col6\" >0.137226</td>\n",
       "                        <td id=\"T_0fa6b16c_7bd2_11eb_8b6e_08002774ef73row7_col7\" class=\"data row7 col7\" >1.000000</td>\n",
       "                        <td id=\"T_0fa6b16c_7bd2_11eb_8b6e_08002774ef73row7_col8\" class=\"data row7 col8\" >-0.078616</td>\n",
       "                        <td id=\"T_0fa6b16c_7bd2_11eb_8b6e_08002774ef73row7_col9\" class=\"data row7 col9\" >0.435371</td>\n",
       "                        <td id=\"T_0fa6b16c_7bd2_11eb_8b6e_08002774ef73row7_col10\" class=\"data row7 col10\" >-0.012947</td>\n",
       "                        <td id=\"T_0fa6b16c_7bd2_11eb_8b6e_08002774ef73row7_col11\" class=\"data row7 col11\" >0.081915</td>\n",
       "            </tr>\n",
       "            <tr>\n",
       "                        <th id=\"T_0fa6b16c_7bd2_11eb_8b6e_08002774ef73level0_row8\" class=\"row_heading level0 row8\" >NumberOfTimes90DaysLate</th>\n",
       "                        <td id=\"T_0fa6b16c_7bd2_11eb_8b6e_08002774ef73row8_col0\" class=\"data row8 col0\" >0.000485</td>\n",
       "                        <td id=\"T_0fa6b16c_7bd2_11eb_8b6e_08002774ef73row8_col1\" class=\"data row8 col1\" >0.219706</td>\n",
       "                        <td id=\"T_0fa6b16c_7bd2_11eb_8b6e_08002774ef73row8_col2\" class=\"data row8 col2\" >0.040691</td>\n",
       "                        <td id=\"T_0fa6b16c_7bd2_11eb_8b6e_08002774ef73row8_col3\" class=\"data row8 col3\" >-0.055766</td>\n",
       "                        <td id=\"T_0fa6b16c_7bd2_11eb_8b6e_08002774ef73row8_col4\" class=\"data row8 col4\" >0.267482</td>\n",
       "                        <td id=\"T_0fa6b16c_7bd2_11eb_8b6e_08002774ef73row8_col5\" class=\"data row8 col5\" >-0.008979</td>\n",
       "                        <td id=\"T_0fa6b16c_7bd2_11eb_8b6e_08002774ef73row8_col6\" class=\"data row8 col6\" >-0.031213</td>\n",
       "                        <td id=\"T_0fa6b16c_7bd2_11eb_8b6e_08002774ef73row8_col7\" class=\"data row8 col7\" >-0.078616</td>\n",
       "                        <td id=\"T_0fa6b16c_7bd2_11eb_8b6e_08002774ef73row8_col8\" class=\"data row8 col8\" >1.000000</td>\n",
       "                        <td id=\"T_0fa6b16c_7bd2_11eb_8b6e_08002774ef73row8_col9\" class=\"data row8 col9\" >-0.067454</td>\n",
       "                        <td id=\"T_0fa6b16c_7bd2_11eb_8b6e_08002774ef73row8_col10\" class=\"data row8 col10\" >0.457644</td>\n",
       "                        <td id=\"T_0fa6b16c_7bd2_11eb_8b6e_08002774ef73row8_col11\" class=\"data row8 col11\" >0.018637</td>\n",
       "            </tr>\n",
       "            <tr>\n",
       "                        <th id=\"T_0fa6b16c_7bd2_11eb_8b6e_08002774ef73level0_row9\" class=\"row_heading level0 row9\" >NumberRealEstateLoansOrLines</th>\n",
       "                        <td id=\"T_0fa6b16c_7bd2_11eb_8b6e_08002774ef73row9_col0\" class=\"data row9 col0\" >0.008817</td>\n",
       "                        <td id=\"T_0fa6b16c_7bd2_11eb_8b6e_08002774ef73row9_col1\" class=\"data row9 col1\" >0.052850</td>\n",
       "                        <td id=\"T_0fa6b16c_7bd2_11eb_8b6e_08002774ef73row9_col2\" class=\"data row9 col2\" >0.020441</td>\n",
       "                        <td id=\"T_0fa6b16c_7bd2_11eb_8b6e_08002774ef73row9_col3\" class=\"data row9 col3\" >0.011650</td>\n",
       "                        <td id=\"T_0fa6b16c_7bd2_11eb_8b6e_08002774ef73row9_col4\" class=\"data row9 col4\" >0.089616</td>\n",
       "                        <td id=\"T_0fa6b16c_7bd2_11eb_8b6e_08002774ef73row9_col5\" class=\"data row9 col5\" >0.194535</td>\n",
       "                        <td id=\"T_0fa6b16c_7bd2_11eb_8b6e_08002774ef73row9_col6\" class=\"data row9 col6\" >0.171848</td>\n",
       "                        <td id=\"T_0fa6b16c_7bd2_11eb_8b6e_08002774ef73row9_col7\" class=\"data row9 col7\" >0.435371</td>\n",
       "                        <td id=\"T_0fa6b16c_7bd2_11eb_8b6e_08002774ef73row9_col8\" class=\"data row9 col8\" >-0.067454</td>\n",
       "                        <td id=\"T_0fa6b16c_7bd2_11eb_8b6e_08002774ef73row9_col9\" class=\"data row9 col9\" >1.000000</td>\n",
       "                        <td id=\"T_0fa6b16c_7bd2_11eb_8b6e_08002774ef73row9_col10\" class=\"data row9 col10\" >-0.002110</td>\n",
       "                        <td id=\"T_0fa6b16c_7bd2_11eb_8b6e_08002774ef73row9_col11\" class=\"data row9 col11\" >0.113784</td>\n",
       "            </tr>\n",
       "            <tr>\n",
       "                        <th id=\"T_0fa6b16c_7bd2_11eb_8b6e_08002774ef73level0_row10\" class=\"row_heading level0 row10\" >NumberOfTime60-89DaysPastDueNotWorse</th>\n",
       "                        <td id=\"T_0fa6b16c_7bd2_11eb_8b6e_08002774ef73row10_col0\" class=\"data row10 col0\" >0.013869</td>\n",
       "                        <td id=\"T_0fa6b16c_7bd2_11eb_8b6e_08002774ef73row10_col1\" class=\"data row10 col1\" >0.335480</td>\n",
       "                        <td id=\"T_0fa6b16c_7bd2_11eb_8b6e_08002774ef73row10_col2\" class=\"data row10 col2\" >-0.006878</td>\n",
       "                        <td id=\"T_0fa6b16c_7bd2_11eb_8b6e_08002774ef73row10_col3\" class=\"data row10 col3\" >-0.033527</td>\n",
       "                        <td id=\"T_0fa6b16c_7bd2_11eb_8b6e_08002774ef73row10_col4\" class=\"data row10 col4\" >0.470769</td>\n",
       "                        <td id=\"T_0fa6b16c_7bd2_11eb_8b6e_08002774ef73row10_col5\" class=\"data row10 col5\" >0.033088</td>\n",
       "                        <td id=\"T_0fa6b16c_7bd2_11eb_8b6e_08002774ef73row10_col6\" class=\"data row10 col6\" >-0.046064</td>\n",
       "                        <td id=\"T_0fa6b16c_7bd2_11eb_8b6e_08002774ef73row10_col7\" class=\"data row10 col7\" >-0.012947</td>\n",
       "                        <td id=\"T_0fa6b16c_7bd2_11eb_8b6e_08002774ef73row10_col8\" class=\"data row10 col8\" >0.457644</td>\n",
       "                        <td id=\"T_0fa6b16c_7bd2_11eb_8b6e_08002774ef73row10_col9\" class=\"data row10 col9\" >-0.002110</td>\n",
       "                        <td id=\"T_0fa6b16c_7bd2_11eb_8b6e_08002774ef73row10_col10\" class=\"data row10 col10\" >1.000000</td>\n",
       "                        <td id=\"T_0fa6b16c_7bd2_11eb_8b6e_08002774ef73row10_col11\" class=\"data row10 col11\" >0.030802</td>\n",
       "            </tr>\n",
       "            <tr>\n",
       "                        <th id=\"T_0fa6b16c_7bd2_11eb_8b6e_08002774ef73level0_row11\" class=\"row_heading level0 row11\" >NumberOfDependents</th>\n",
       "                        <td id=\"T_0fa6b16c_7bd2_11eb_8b6e_08002774ef73row11_col0\" class=\"data row11 col0\" >0.005307</td>\n",
       "                        <td id=\"T_0fa6b16c_7bd2_11eb_8b6e_08002774ef73row11_col1\" class=\"data row11 col1\" >0.055352</td>\n",
       "                        <td id=\"T_0fa6b16c_7bd2_11eb_8b6e_08002774ef73row11_col2\" class=\"data row11 col2\" >0.028833</td>\n",
       "                        <td id=\"T_0fa6b16c_7bd2_11eb_8b6e_08002774ef73row11_col3\" class=\"data row11 col3\" >-0.190353</td>\n",
       "                        <td id=\"T_0fa6b16c_7bd2_11eb_8b6e_08002774ef73row11_col4\" class=\"data row11 col4\" >0.056531</td>\n",
       "                        <td id=\"T_0fa6b16c_7bd2_11eb_8b6e_08002774ef73row11_col5\" class=\"data row11 col5\" >-0.072604</td>\n",
       "                        <td id=\"T_0fa6b16c_7bd2_11eb_8b6e_08002774ef73row11_col6\" class=\"data row11 col6\" >0.105771</td>\n",
       "                        <td id=\"T_0fa6b16c_7bd2_11eb_8b6e_08002774ef73row11_col7\" class=\"data row11 col7\" >0.081915</td>\n",
       "                        <td id=\"T_0fa6b16c_7bd2_11eb_8b6e_08002774ef73row11_col8\" class=\"data row11 col8\" >0.018637</td>\n",
       "                        <td id=\"T_0fa6b16c_7bd2_11eb_8b6e_08002774ef73row11_col9\" class=\"data row11 col9\" >0.113784</td>\n",
       "                        <td id=\"T_0fa6b16c_7bd2_11eb_8b6e_08002774ef73row11_col10\" class=\"data row11 col10\" >0.030802</td>\n",
       "                        <td id=\"T_0fa6b16c_7bd2_11eb_8b6e_08002774ef73row11_col11\" class=\"data row11 col11\" >1.000000</td>\n",
       "            </tr>\n",
       "    </tbody></table>"
      ],
      "text/plain": [
       "<pandas.io.formats.style.Styler at 0x7f9435b83700>"
      ]
     },
     "execution_count": 3,
     "metadata": {},
     "output_type": "execute_result"
    }
   ],
   "source": [
    "corr = df.corr()\n",
    "corr.style.background_gradient(cmap='coolwarm')"
   ]
  },
  {
   "cell_type": "code",
   "execution_count": 34,
   "metadata": {},
   "outputs": [],
   "source": [
    "pca = decomposition.PCA(n_components=5)\n",
    "pca.fit(X)\n",
    "X = pca.transform(X)"
   ]
  },
  {
   "cell_type": "code",
   "execution_count": 35,
   "metadata": {},
   "outputs": [
    {
     "data": {
      "text/plain": [
       "array([[-1.84787007e+06,  2.68167733e+03, -3.34064043e+00,\n",
       "        -6.53383530e+00,  5.11236532e+00],\n",
       "       [-1.85487639e+06, -3.83832338e+03, -2.82199790e+00,\n",
       "        -1.14930179e+01, -3.54224397e+00],\n",
       "       [-1.85493435e+06, -3.39632374e+03, -3.14133839e+00,\n",
       "        -1.36231538e+01, -5.47560171e+00],\n",
       "       ...,\n",
       "       [-1.85196259e+06,  3.56167819e+03, -4.13329126e+00,\n",
       "         1.45176056e+00,  5.20954148e+00],\n",
       "       [-1.85278556e+06,  1.92367794e+03, -4.03599835e+00,\n",
       "         4.23298485e+00, -8.34240961e-01],\n",
       "       [ 7.56429345e+06, -6.17649208e-01, -2.50457026e+00,\n",
       "         9.32445380e+00, -4.48516033e+00]])"
      ]
     },
     "execution_count": 35,
     "metadata": {},
     "output_type": "execute_result"
    }
   ],
   "source": [
    "X"
   ]
  },
  {
   "cell_type": "code",
   "execution_count": 36,
   "metadata": {},
   "outputs": [],
   "source": [
    "from sklearn.model_selection import train_test_split\n",
    "\n",
    "X_train, X_test, y_train, y_test = train_test_split(X, y, test_size=0.3, random_state=42)"
   ]
  },
  {
   "cell_type": "code",
   "execution_count": 47,
   "metadata": {},
   "outputs": [
    {
     "ename": "KeyError",
     "evalue": "8",
     "output_type": "error",
     "traceback": [
      "\u001b[0;31m---------------------------------------------------------------------------\u001b[0m",
      "\u001b[0;31mKeyError\u001b[0m                                  Traceback (most recent call last)",
      "\u001b[0;32m~/anaconda3/lib/python3.8/site-packages/pandas/core/indexes/base.py\u001b[0m in \u001b[0;36mget_loc\u001b[0;34m(self, key, method, tolerance)\u001b[0m\n\u001b[1;32m   2894\u001b[0m             \u001b[0;32mtry\u001b[0m\u001b[0;34m:\u001b[0m\u001b[0;34m\u001b[0m\u001b[0;34m\u001b[0m\u001b[0m\n\u001b[0;32m-> 2895\u001b[0;31m                 \u001b[0;32mreturn\u001b[0m \u001b[0mself\u001b[0m\u001b[0;34m.\u001b[0m\u001b[0m_engine\u001b[0m\u001b[0;34m.\u001b[0m\u001b[0mget_loc\u001b[0m\u001b[0;34m(\u001b[0m\u001b[0mcasted_key\u001b[0m\u001b[0;34m)\u001b[0m\u001b[0;34m\u001b[0m\u001b[0;34m\u001b[0m\u001b[0m\n\u001b[0m\u001b[1;32m   2896\u001b[0m             \u001b[0;32mexcept\u001b[0m \u001b[0mKeyError\u001b[0m \u001b[0;32mas\u001b[0m \u001b[0merr\u001b[0m\u001b[0;34m:\u001b[0m\u001b[0;34m\u001b[0m\u001b[0;34m\u001b[0m\u001b[0m\n",
      "\u001b[0;32mpandas/_libs/index.pyx\u001b[0m in \u001b[0;36mpandas._libs.index.IndexEngine.get_loc\u001b[0;34m()\u001b[0m\n",
      "\u001b[0;32mpandas/_libs/index.pyx\u001b[0m in \u001b[0;36mpandas._libs.index.IndexEngine.get_loc\u001b[0;34m()\u001b[0m\n",
      "\u001b[0;32mpandas/_libs/hashtable_class_helper.pxi\u001b[0m in \u001b[0;36mpandas._libs.hashtable.Int64HashTable.get_item\u001b[0;34m()\u001b[0m\n",
      "\u001b[0;32mpandas/_libs/hashtable_class_helper.pxi\u001b[0m in \u001b[0;36mpandas._libs.hashtable.Int64HashTable.get_item\u001b[0;34m()\u001b[0m\n",
      "\u001b[0;31mKeyError\u001b[0m: 8",
      "\nThe above exception was the direct cause of the following exception:\n",
      "\u001b[0;31mKeyError\u001b[0m                                  Traceback (most recent call last)",
      "\u001b[0;32m<ipython-input-47-8c63129e5632>\u001b[0m in \u001b[0;36m<module>\u001b[0;34m\u001b[0m\n\u001b[1;32m      1\u001b[0m \u001b[0my_pred\u001b[0m \u001b[0;34m=\u001b[0m \u001b[0mnp\u001b[0m\u001b[0;34m.\u001b[0m\u001b[0mzeros\u001b[0m\u001b[0;34m(\u001b[0m\u001b[0mlen\u001b[0m\u001b[0;34m(\u001b[0m\u001b[0my_test\u001b[0m\u001b[0;34m)\u001b[0m\u001b[0;34m)\u001b[0m\u001b[0;34m\u001b[0m\u001b[0;34m\u001b[0m\u001b[0m\n\u001b[1;32m      2\u001b[0m \u001b[0;32mfor\u001b[0m \u001b[0mi\u001b[0m \u001b[0;32min\u001b[0m \u001b[0mrange\u001b[0m\u001b[0;34m(\u001b[0m\u001b[0mlen\u001b[0m\u001b[0;34m(\u001b[0m\u001b[0my_test\u001b[0m\u001b[0;34m)\u001b[0m\u001b[0;34m)\u001b[0m\u001b[0;34m:\u001b[0m\u001b[0;34m\u001b[0m\u001b[0;34m\u001b[0m\u001b[0m\n\u001b[0;32m----> 3\u001b[0;31m     \u001b[0mneighbors\u001b[0m \u001b[0;34m=\u001b[0m \u001b[0mget_neighbors\u001b[0m\u001b[0;34m(\u001b[0m\u001b[0mX_train\u001b[0m\u001b[0;34m,\u001b[0m \u001b[0my_train\u001b[0m\u001b[0;34m,\u001b[0m \u001b[0mX_test\u001b[0m\u001b[0;34m[\u001b[0m\u001b[0mi\u001b[0m\u001b[0;34m]\u001b[0m\u001b[0;34m,\u001b[0m \u001b[0;36m2\u001b[0m\u001b[0;34m)\u001b[0m\u001b[0;34m\u001b[0m\u001b[0;34m\u001b[0m\u001b[0m\n\u001b[0m\u001b[1;32m      4\u001b[0m     \u001b[0my_pred\u001b[0m\u001b[0;34m[\u001b[0m\u001b[0mi\u001b[0m\u001b[0;34m]\u001b[0m \u001b[0;34m=\u001b[0m \u001b[0mcheck\u001b[0m\u001b[0;34m(\u001b[0m\u001b[0mneighbors\u001b[0m\u001b[0;34m)\u001b[0m\u001b[0;34m\u001b[0m\u001b[0;34m\u001b[0m\u001b[0m\n",
      "\u001b[0;32m<ipython-input-44-b4132c5b7dec>\u001b[0m in \u001b[0;36mget_neighbors\u001b[0;34m(df, y, x, k)\u001b[0m\n\u001b[1;32m      4\u001b[0m     \u001b[0;32mfor\u001b[0m \u001b[0mindex\u001b[0m \u001b[0;32min\u001b[0m \u001b[0mrange\u001b[0m\u001b[0;34m(\u001b[0m\u001b[0mlen\u001b[0m\u001b[0;34m(\u001b[0m\u001b[0my\u001b[0m\u001b[0;34m)\u001b[0m\u001b[0;34m)\u001b[0m\u001b[0;34m:\u001b[0m\u001b[0;34m\u001b[0m\u001b[0;34m\u001b[0m\u001b[0m\n\u001b[1;32m      5\u001b[0m         \u001b[0mdistan\u001b[0m \u001b[0;34m=\u001b[0m \u001b[0mdist\u001b[0m\u001b[0;34m(\u001b[0m\u001b[0mx\u001b[0m\u001b[0;34m,\u001b[0m \u001b[0mdf\u001b[0m\u001b[0;34m[\u001b[0m\u001b[0mindex\u001b[0m\u001b[0;34m]\u001b[0m\u001b[0;34m)\u001b[0m\u001b[0;34m\u001b[0m\u001b[0;34m\u001b[0m\u001b[0m\n\u001b[0;32m----> 6\u001b[0;31m         \u001b[0mdistances\u001b[0m\u001b[0;34m.\u001b[0m\u001b[0mappend\u001b[0m\u001b[0;34m(\u001b[0m\u001b[0;34m(\u001b[0m\u001b[0mindex\u001b[0m\u001b[0;34m,\u001b[0m \u001b[0mdistan\u001b[0m\u001b[0;34m,\u001b[0m \u001b[0my\u001b[0m\u001b[0;34m[\u001b[0m\u001b[0mindex\u001b[0m\u001b[0;34m]\u001b[0m\u001b[0;34m)\u001b[0m\u001b[0;34m)\u001b[0m\u001b[0;34m\u001b[0m\u001b[0;34m\u001b[0m\u001b[0m\n\u001b[0m\u001b[1;32m      7\u001b[0m     \u001b[0mdistances\u001b[0m\u001b[0;34m.\u001b[0m\u001b[0msort\u001b[0m\u001b[0;34m(\u001b[0m\u001b[0mkey\u001b[0m\u001b[0;34m=\u001b[0m\u001b[0;32mlambda\u001b[0m \u001b[0mn\u001b[0m\u001b[0;34m:\u001b[0m \u001b[0mn\u001b[0m\u001b[0;34m[\u001b[0m\u001b[0;36m1\u001b[0m\u001b[0;34m]\u001b[0m\u001b[0;34m)\u001b[0m\u001b[0;34m\u001b[0m\u001b[0;34m\u001b[0m\u001b[0m\n\u001b[1;32m      8\u001b[0m     \u001b[0mneighbors\u001b[0m \u001b[0;34m=\u001b[0m \u001b[0mdistances\u001b[0m\u001b[0;34m[\u001b[0m\u001b[0;34m:\u001b[0m\u001b[0mk\u001b[0m\u001b[0;34m]\u001b[0m\u001b[0;34m\u001b[0m\u001b[0;34m\u001b[0m\u001b[0m\n",
      "\u001b[0;32m~/anaconda3/lib/python3.8/site-packages/pandas/core/series.py\u001b[0m in \u001b[0;36m__getitem__\u001b[0;34m(self, key)\u001b[0m\n\u001b[1;32m    880\u001b[0m \u001b[0;34m\u001b[0m\u001b[0m\n\u001b[1;32m    881\u001b[0m         \u001b[0;32melif\u001b[0m \u001b[0mkey_is_scalar\u001b[0m\u001b[0;34m:\u001b[0m\u001b[0;34m\u001b[0m\u001b[0;34m\u001b[0m\u001b[0m\n\u001b[0;32m--> 882\u001b[0;31m             \u001b[0;32mreturn\u001b[0m \u001b[0mself\u001b[0m\u001b[0;34m.\u001b[0m\u001b[0m_get_value\u001b[0m\u001b[0;34m(\u001b[0m\u001b[0mkey\u001b[0m\u001b[0;34m)\u001b[0m\u001b[0;34m\u001b[0m\u001b[0;34m\u001b[0m\u001b[0m\n\u001b[0m\u001b[1;32m    883\u001b[0m \u001b[0;34m\u001b[0m\u001b[0m\n\u001b[1;32m    884\u001b[0m         \u001b[0;32mif\u001b[0m \u001b[0mis_hashable\u001b[0m\u001b[0;34m(\u001b[0m\u001b[0mkey\u001b[0m\u001b[0;34m)\u001b[0m\u001b[0;34m:\u001b[0m\u001b[0;34m\u001b[0m\u001b[0;34m\u001b[0m\u001b[0m\n",
      "\u001b[0;32m~/anaconda3/lib/python3.8/site-packages/pandas/core/series.py\u001b[0m in \u001b[0;36m_get_value\u001b[0;34m(self, label, takeable)\u001b[0m\n\u001b[1;32m    987\u001b[0m \u001b[0;34m\u001b[0m\u001b[0m\n\u001b[1;32m    988\u001b[0m         \u001b[0;31m# Similar to Index.get_value, but we do not fall back to positional\u001b[0m\u001b[0;34m\u001b[0m\u001b[0;34m\u001b[0m\u001b[0;34m\u001b[0m\u001b[0m\n\u001b[0;32m--> 989\u001b[0;31m         \u001b[0mloc\u001b[0m \u001b[0;34m=\u001b[0m \u001b[0mself\u001b[0m\u001b[0;34m.\u001b[0m\u001b[0mindex\u001b[0m\u001b[0;34m.\u001b[0m\u001b[0mget_loc\u001b[0m\u001b[0;34m(\u001b[0m\u001b[0mlabel\u001b[0m\u001b[0;34m)\u001b[0m\u001b[0;34m\u001b[0m\u001b[0;34m\u001b[0m\u001b[0m\n\u001b[0m\u001b[1;32m    990\u001b[0m         \u001b[0;32mreturn\u001b[0m \u001b[0mself\u001b[0m\u001b[0;34m.\u001b[0m\u001b[0mindex\u001b[0m\u001b[0;34m.\u001b[0m\u001b[0m_get_values_for_loc\u001b[0m\u001b[0;34m(\u001b[0m\u001b[0mself\u001b[0m\u001b[0;34m,\u001b[0m \u001b[0mloc\u001b[0m\u001b[0;34m,\u001b[0m \u001b[0mlabel\u001b[0m\u001b[0;34m)\u001b[0m\u001b[0;34m\u001b[0m\u001b[0;34m\u001b[0m\u001b[0m\n\u001b[1;32m    991\u001b[0m \u001b[0;34m\u001b[0m\u001b[0m\n",
      "\u001b[0;32m~/anaconda3/lib/python3.8/site-packages/pandas/core/indexes/base.py\u001b[0m in \u001b[0;36mget_loc\u001b[0;34m(self, key, method, tolerance)\u001b[0m\n\u001b[1;32m   2895\u001b[0m                 \u001b[0;32mreturn\u001b[0m \u001b[0mself\u001b[0m\u001b[0;34m.\u001b[0m\u001b[0m_engine\u001b[0m\u001b[0;34m.\u001b[0m\u001b[0mget_loc\u001b[0m\u001b[0;34m(\u001b[0m\u001b[0mcasted_key\u001b[0m\u001b[0;34m)\u001b[0m\u001b[0;34m\u001b[0m\u001b[0;34m\u001b[0m\u001b[0m\n\u001b[1;32m   2896\u001b[0m             \u001b[0;32mexcept\u001b[0m \u001b[0mKeyError\u001b[0m \u001b[0;32mas\u001b[0m \u001b[0merr\u001b[0m\u001b[0;34m:\u001b[0m\u001b[0;34m\u001b[0m\u001b[0;34m\u001b[0m\u001b[0m\n\u001b[0;32m-> 2897\u001b[0;31m                 \u001b[0;32mraise\u001b[0m \u001b[0mKeyError\u001b[0m\u001b[0;34m(\u001b[0m\u001b[0mkey\u001b[0m\u001b[0;34m)\u001b[0m \u001b[0;32mfrom\u001b[0m \u001b[0merr\u001b[0m\u001b[0;34m\u001b[0m\u001b[0;34m\u001b[0m\u001b[0m\n\u001b[0m\u001b[1;32m   2898\u001b[0m \u001b[0;34m\u001b[0m\u001b[0m\n\u001b[1;32m   2899\u001b[0m         \u001b[0;32mif\u001b[0m \u001b[0mtolerance\u001b[0m \u001b[0;32mis\u001b[0m \u001b[0;32mnot\u001b[0m \u001b[0;32mNone\u001b[0m\u001b[0;34m:\u001b[0m\u001b[0;34m\u001b[0m\u001b[0;34m\u001b[0m\u001b[0m\n",
      "\u001b[0;31mKeyError\u001b[0m: 8"
     ]
    }
   ],
   "source": [
    "y_pred = np.zeros(len(y_test))\n",
    "for i in range(len(y_test)):\n",
    "    neighbors = get_neighbors(X_train, y_train, X_test[i], 2)\n",
    "    y_pred[i] = check(neighbors)"
   ]
  },
  {
   "cell_type": "code",
   "execution_count": 4,
   "metadata": {},
   "outputs": [
    {
     "name": "stdout",
     "output_type": "stream",
     "text": [
      "<class 'pandas.core.frame.DataFrame'>\n",
      "RangeIndex: 1350 entries, 0 to 1349\n",
      "Data columns (total 12 columns):\n",
      " #   Column                                Non-Null Count  Dtype  \n",
      "---  ------                                --------------  -----  \n",
      " 0   Id                                    1350 non-null   int64  \n",
      " 1   SeriousDlqin2yrs                      1350 non-null   int64  \n",
      " 2   RevolvingUtilizationOfUnsecuredLines  1350 non-null   float64\n",
      " 3   age                                   1350 non-null   int64  \n",
      " 4   NumberOfTime30-59DaysPastDueNotWorse  1350 non-null   int64  \n",
      " 5   DebtRatio                             1350 non-null   float64\n",
      " 6   MonthlyIncome                         1094 non-null   float64\n",
      " 7   NumberOfOpenCreditLinesAndLoans       1350 non-null   int64  \n",
      " 8   NumberOfTimes90DaysLate               1350 non-null   int64  \n",
      " 9   NumberRealEstateLoansOrLines          1350 non-null   int64  \n",
      " 10  NumberOfTime60-89DaysPastDueNotWorse  1350 non-null   int64  \n",
      " 11  NumberOfDependents                    1307 non-null   float64\n",
      "dtypes: float64(4), int64(8)\n",
      "memory usage: 126.7 KB\n"
     ]
    }
   ],
   "source": [
    "df.info()"
   ]
  },
  {
   "cell_type": "code",
   "execution_count": 5,
   "metadata": {},
   "outputs": [
    {
     "data": {
      "text/plain": [
       "0.06"
      ]
     },
     "execution_count": 5,
     "metadata": {},
     "output_type": "execute_result"
    }
   ],
   "source": [
    "df['SeriousDlqin2yrs'].mean()"
   ]
  },
  {
   "cell_type": "code",
   "execution_count": 6,
   "metadata": {},
   "outputs": [],
   "source": [
    "df['MonthlyIncome'].fillna(df['MonthlyIncome'].mean(), inplace=True)"
   ]
  },
  {
   "cell_type": "code",
   "execution_count": 7,
   "metadata": {},
   "outputs": [
    {
     "data": {
      "text/html": [
       "<div>\n",
       "<style scoped>\n",
       "    .dataframe tbody tr th:only-of-type {\n",
       "        vertical-align: middle;\n",
       "    }\n",
       "\n",
       "    .dataframe tbody tr th {\n",
       "        vertical-align: top;\n",
       "    }\n",
       "\n",
       "    .dataframe thead th {\n",
       "        text-align: right;\n",
       "    }\n",
       "</style>\n",
       "<table border=\"1\" class=\"dataframe\">\n",
       "  <thead>\n",
       "    <tr style=\"text-align: right;\">\n",
       "      <th></th>\n",
       "      <th>Id</th>\n",
       "      <th>SeriousDlqin2yrs</th>\n",
       "      <th>RevolvingUtilizationOfUnsecuredLines</th>\n",
       "      <th>age</th>\n",
       "      <th>NumberOfTime30-59DaysPastDueNotWorse</th>\n",
       "      <th>DebtRatio</th>\n",
       "      <th>MonthlyIncome</th>\n",
       "      <th>NumberOfOpenCreditLinesAndLoans</th>\n",
       "      <th>NumberOfTimes90DaysLate</th>\n",
       "      <th>NumberRealEstateLoansOrLines</th>\n",
       "      <th>NumberOfTime60-89DaysPastDueNotWorse</th>\n",
       "      <th>NumberOfDependents</th>\n",
       "    </tr>\n",
       "  </thead>\n",
       "  <tbody>\n",
       "    <tr>\n",
       "      <th>count</th>\n",
       "      <td>1350.000000</td>\n",
       "      <td>1350.000000</td>\n",
       "      <td>1350.000000</td>\n",
       "      <td>1350.000000</td>\n",
       "      <td>1350.000000</td>\n",
       "      <td>1350.000000</td>\n",
       "      <td>1350.000000</td>\n",
       "      <td>1350.000000</td>\n",
       "      <td>1350.000000</td>\n",
       "      <td>1350.000000</td>\n",
       "      <td>1350.000000</td>\n",
       "      <td>1307.000000</td>\n",
       "    </tr>\n",
       "    <tr>\n",
       "      <th>mean</th>\n",
       "      <td>675.500000</td>\n",
       "      <td>0.060000</td>\n",
       "      <td>3.577895</td>\n",
       "      <td>52.048889</td>\n",
       "      <td>0.257778</td>\n",
       "      <td>356.123363</td>\n",
       "      <td>6438.473492</td>\n",
       "      <td>8.434074</td>\n",
       "      <td>0.080000</td>\n",
       "      <td>0.986667</td>\n",
       "      <td>0.062222</td>\n",
       "      <td>0.737567</td>\n",
       "    </tr>\n",
       "    <tr>\n",
       "      <th>std</th>\n",
       "      <td>389.855743</td>\n",
       "      <td>0.237575</td>\n",
       "      <td>84.914699</td>\n",
       "      <td>15.009875</td>\n",
       "      <td>0.751718</td>\n",
       "      <td>1156.603074</td>\n",
       "      <td>7065.781288</td>\n",
       "      <td>5.129287</td>\n",
       "      <td>0.376634</td>\n",
       "      <td>1.008401</td>\n",
       "      <td>0.306555</td>\n",
       "      <td>1.086949</td>\n",
       "    </tr>\n",
       "    <tr>\n",
       "      <th>min</th>\n",
       "      <td>1.000000</td>\n",
       "      <td>0.000000</td>\n",
       "      <td>0.000000</td>\n",
       "      <td>22.000000</td>\n",
       "      <td>0.000000</td>\n",
       "      <td>0.000000</td>\n",
       "      <td>0.000000</td>\n",
       "      <td>0.000000</td>\n",
       "      <td>0.000000</td>\n",
       "      <td>0.000000</td>\n",
       "      <td>0.000000</td>\n",
       "      <td>0.000000</td>\n",
       "    </tr>\n",
       "    <tr>\n",
       "      <th>25%</th>\n",
       "      <td>338.250000</td>\n",
       "      <td>0.000000</td>\n",
       "      <td>0.031140</td>\n",
       "      <td>40.000000</td>\n",
       "      <td>0.000000</td>\n",
       "      <td>0.175125</td>\n",
       "      <td>3724.250000</td>\n",
       "      <td>5.000000</td>\n",
       "      <td>0.000000</td>\n",
       "      <td>0.000000</td>\n",
       "      <td>0.000000</td>\n",
       "      <td>0.000000</td>\n",
       "    </tr>\n",
       "    <tr>\n",
       "      <th>50%</th>\n",
       "      <td>675.500000</td>\n",
       "      <td>0.000000</td>\n",
       "      <td>0.156891</td>\n",
       "      <td>52.000000</td>\n",
       "      <td>0.000000</td>\n",
       "      <td>0.367049</td>\n",
       "      <td>6400.000000</td>\n",
       "      <td>8.000000</td>\n",
       "      <td>0.000000</td>\n",
       "      <td>1.000000</td>\n",
       "      <td>0.000000</td>\n",
       "      <td>0.000000</td>\n",
       "    </tr>\n",
       "    <tr>\n",
       "      <th>75%</th>\n",
       "      <td>1012.750000</td>\n",
       "      <td>0.000000</td>\n",
       "      <td>0.543145</td>\n",
       "      <td>63.000000</td>\n",
       "      <td>0.000000</td>\n",
       "      <td>0.807001</td>\n",
       "      <td>7416.000000</td>\n",
       "      <td>11.000000</td>\n",
       "      <td>0.000000</td>\n",
       "      <td>2.000000</td>\n",
       "      <td>0.000000</td>\n",
       "      <td>1.000000</td>\n",
       "    </tr>\n",
       "    <tr>\n",
       "      <th>max</th>\n",
       "      <td>1350.000000</td>\n",
       "      <td>1.000000</td>\n",
       "      <td>2340.000000</td>\n",
       "      <td>97.000000</td>\n",
       "      <td>10.000000</td>\n",
       "      <td>15466.000000</td>\n",
       "      <td>208333.000000</td>\n",
       "      <td>31.000000</td>\n",
       "      <td>5.000000</td>\n",
       "      <td>8.000000</td>\n",
       "      <td>5.000000</td>\n",
       "      <td>8.000000</td>\n",
       "    </tr>\n",
       "  </tbody>\n",
       "</table>\n",
       "</div>"
      ],
      "text/plain": [
       "                Id  SeriousDlqin2yrs  RevolvingUtilizationOfUnsecuredLines  \\\n",
       "count  1350.000000       1350.000000                           1350.000000   \n",
       "mean    675.500000          0.060000                              3.577895   \n",
       "std     389.855743          0.237575                             84.914699   \n",
       "min       1.000000          0.000000                              0.000000   \n",
       "25%     338.250000          0.000000                              0.031140   \n",
       "50%     675.500000          0.000000                              0.156891   \n",
       "75%    1012.750000          0.000000                              0.543145   \n",
       "max    1350.000000          1.000000                           2340.000000   \n",
       "\n",
       "               age  NumberOfTime30-59DaysPastDueNotWorse     DebtRatio  \\\n",
       "count  1350.000000                           1350.000000   1350.000000   \n",
       "mean     52.048889                              0.257778    356.123363   \n",
       "std      15.009875                              0.751718   1156.603074   \n",
       "min      22.000000                              0.000000      0.000000   \n",
       "25%      40.000000                              0.000000      0.175125   \n",
       "50%      52.000000                              0.000000      0.367049   \n",
       "75%      63.000000                              0.000000      0.807001   \n",
       "max      97.000000                             10.000000  15466.000000   \n",
       "\n",
       "       MonthlyIncome  NumberOfOpenCreditLinesAndLoans  \\\n",
       "count    1350.000000                      1350.000000   \n",
       "mean     6438.473492                         8.434074   \n",
       "std      7065.781288                         5.129287   \n",
       "min         0.000000                         0.000000   \n",
       "25%      3724.250000                         5.000000   \n",
       "50%      6400.000000                         8.000000   \n",
       "75%      7416.000000                        11.000000   \n",
       "max    208333.000000                        31.000000   \n",
       "\n",
       "       NumberOfTimes90DaysLate  NumberRealEstateLoansOrLines  \\\n",
       "count              1350.000000                   1350.000000   \n",
       "mean                  0.080000                      0.986667   \n",
       "std                   0.376634                      1.008401   \n",
       "min                   0.000000                      0.000000   \n",
       "25%                   0.000000                      0.000000   \n",
       "50%                   0.000000                      1.000000   \n",
       "75%                   0.000000                      2.000000   \n",
       "max                   5.000000                      8.000000   \n",
       "\n",
       "       NumberOfTime60-89DaysPastDueNotWorse  NumberOfDependents  \n",
       "count                           1350.000000         1307.000000  \n",
       "mean                               0.062222            0.737567  \n",
       "std                                0.306555            1.086949  \n",
       "min                                0.000000            0.000000  \n",
       "25%                                0.000000            0.000000  \n",
       "50%                                0.000000            0.000000  \n",
       "75%                                0.000000            1.000000  \n",
       "max                                5.000000            8.000000  "
      ]
     },
     "execution_count": 7,
     "metadata": {},
     "output_type": "execute_result"
    }
   ],
   "source": [
    "df.describe()"
   ]
  },
  {
   "cell_type": "code",
   "execution_count": 38,
   "metadata": {},
   "outputs": [],
   "source": [
    "def dist(x1, x2):\n",
    "    x1 = np.array(x1) \n",
    "    x2 = np.array(x2)\n",
    "#     print('check')\n",
    "    \n",
    "    return np.linalg.norm(x1 - x2)"
   ]
  },
  {
   "cell_type": "code",
   "execution_count": 44,
   "metadata": {},
   "outputs": [],
   "source": [
    "def get_neighbors(df, y, x, k):\n",
    "    distances = []\n",
    "#     print('ch')\n",
    "    for index in range(len(y)):\n",
    "        distan = dist(x, df[index])\n",
    "        distances.append((index, distan, y[index]))\n",
    "    distances.sort(key=lambda n: n[1])\n",
    "    neighbors = distances[:k]\n",
    "    return neighbors"
   ]
  },
  {
   "cell_type": "code",
   "execution_count": 45,
   "metadata": {},
   "outputs": [],
   "source": [
    "def check(neighbors):\n",
    "    y0 = 0\n",
    "    y1 = 0\n",
    "    for neighbor in neighbors:\n",
    "        if neighbor[2] == 0:\n",
    "            y0 += 1\n",
    "        else:\n",
    "            y1 += 1\n",
    "    if y0 > y1:\n",
    "        return 0\n",
    "    else:\n",
    "        return 1"
   ]
  },
  {
   "cell_type": "code",
   "execution_count": 11,
   "metadata": {},
   "outputs": [
    {
     "name": "stdout",
     "output_type": "stream",
     "text": [
      "1080 270 1080 270\n"
     ]
    }
   ],
   "source": [
    "X_train = df[['age', 'MonthlyIncome','RevolvingUtilizationOfUnsecuredLines', 'DebtRatio', 'NumberOfTime30-59DaysPastDueNotWorse', 'NumberOfOpenCreditLinesAndLoans', 'NumberOfTimes90DaysLate', 'NumberRealEstateLoansOrLines', 'NumberOfTime60-89DaysPastDueNotWorse', 'NumberOfDependents']]\n",
    "y_train = df['SeriousDlqin2yrs']\n",
    "X_train, X_test, y_train, y_test = train_test_split(X_train, y_train, test_size=0.2, random_state=42)\n",
    "print(len(X_train),len(X_test),len(y_train),len(y_test))\n",
    "y_train = y_train.to_numpy()\n",
    "y_test = y_test.to_numpy()"
   ]
  },
  {
   "cell_type": "code",
   "execution_count": 29,
   "metadata": {},
   "outputs": [
    {
     "data": {
      "text/plain": [
       "pandas.core.frame.DataFrame"
      ]
     },
     "execution_count": 29,
     "metadata": {},
     "output_type": "execute_result"
    }
   ],
   "source": [
    "type(X_test.iloc[[12]])"
   ]
  },
  {
   "cell_type": "code",
   "execution_count": 12,
   "metadata": {},
   "outputs": [],
   "source": [
    "y_pred = np.zeros(len(y_test))\n",
    "for i in range(len(y_test)):\n",
    "    neighbors = get_neighbors(X_train, y_train, X_test.iloc[[i]], 2)\n",
    "    y_pred[i] = check(neighbors)\n",
    "#     print(\"index: \", i, \n",
    "#           \", result of check: \", check(neighbors), \n",
    "#           \", true label: \", y_test[i])"
   ]
  },
  {
   "cell_type": "code",
   "execution_count": 13,
   "metadata": {},
   "outputs": [
    {
     "name": "stdout",
     "output_type": "stream",
     "text": [
      "0.8074074074074074\n"
     ]
    }
   ],
   "source": [
    "count = np.count_nonzero(y_pred - y_test)\n",
    "print(1-count/len(y_pred))"
   ]
  },
  {
   "cell_type": "code",
   "execution_count": 19,
   "metadata": {},
   "outputs": [
    {
     "data": {
      "text/plain": [
       "251"
      ]
     },
     "execution_count": 19,
     "metadata": {},
     "output_type": "execute_result"
    }
   ],
   "source": [
    "X_tmp = X_test.copy()\n",
    "X_tmp['labels'] = y_test\n",
    "len(X_tmp[X_tmp['labels']==0]['MonthlyIncome'])"
   ]
  },
  {
   "cell_type": "code",
   "execution_count": 34,
   "metadata": {},
   "outputs": [
    {
     "data": {
      "text/plain": [
       "<matplotlib.collections.PathCollection at 0x7f16af894190>"
      ]
     },
     "execution_count": 34,
     "metadata": {},
     "output_type": "execute_result"
    },
    {
     "data": {
      "image/png": "[encoded data removed]",
      "text/plain": [
       "<Figure size 432x288 with 1 Axes>"
      ]
     },
     "metadata": {
      "needs_background": "light"
     },
     "output_type": "display_data"
    }
   ],
   "source": [
    "X_tmp = X_test.copy()\n",
    "X_tmp['labels'] = y_pred\n",
    "\n",
    "plt.scatter(X_tmp[X_tmp['labels']==0]['age'], X_tmp[X_tmp['labels']==0]['MonthlyIncome'], c='g')\n",
    "plt.scatter(X_tmp[X_tmp['labels']==1]['age'], X_tmp[X_tmp['labels']==1]['MonthlyIncome'], c='b')"
   ]
  },
  {
   "cell_type": "code",
   "execution_count": 35,
   "metadata": {},
   "outputs": [
    {
     "data": {
      "text/plain": [
       "<matplotlib.collections.PathCollection at 0x7f16af597760>"
      ]
     },
     "execution_count": 35,
     "metadata": {},
     "output_type": "execute_result"
    },
    {
     "data": {
      "image/png": "[encoded data removed]",
      "text/plain": [
       "<Figure size 432x288 with 1 Axes>"
      ]
     },
     "metadata": {
      "needs_background": "light"
     },
     "output_type": "display_data"
    }
   ],
   "source": [
    "X_tmp = X_test.copy()\n",
    "X_tmp['labels'] = y_test\n",
    "\n",
    "plt.scatter(X_tmp[X_tmp['labels']==0]['age'], X_tmp[X_tmp['labels']==0]['MonthlyIncome'], c='g')\n",
    "plt.scatter(X_tmp[X_tmp['labels']==1]['age'], X_tmp[X_tmp['labels']==1]['MonthlyIncome'], c='b')"
   ]
  },
  {
   "cell_type": "code",
   "execution_count": 36,
   "metadata": {},
   "outputs": [
    {
     "name": "stdout",
     "output_type": "stream",
     "text": [
      "1080 270 1080 270\n"
     ]
    }
   ],
   "source": [
    "X_train = df[['MonthlyIncome', 'DebtRatio']]\n",
    "y_train = df['SeriousDlqin2yrs']\n",
    "X_train, X_test, y_train, y_test = train_test_split(X_train, y_train, test_size=0.2, random_state=42)\n",
    "print(len(X_train),len(X_test),len(y_train),len(y_test))\n",
    "y_train = y_train.to_numpy()\n",
    "y_test = y_test.to_numpy()"
   ]
  },
  {
   "cell_type": "code",
   "execution_count": 37,
   "metadata": {},
   "outputs": [],
   "source": [
    "y_pred = np.zeros(len(y_test))\n",
    "for i in range(len(y_test)):\n",
    "    neighbors = get_neighbors(X_train, y_train, X_test.iloc[[i]], 2)\n",
    "    y_pred[i] = check(neighbors)\n",
    "#     print(\"index: \", i, \n",
    "#           \", result of check: \", check(neighbors), \n",
    "#           \", true label: \", y_test[i])"
   ]
  },
  {
   "cell_type": "code",
   "execution_count": 39,
   "metadata": {},
   "outputs": [
    {
     "data": {
      "text/plain": [
       "<matplotlib.collections.PathCollection at 0x7f16af4fa7f0>"
      ]
     },
     "execution_count": 39,
     "metadata": {},
     "output_type": "execute_result"
    },
    {
     "data": {
      "image/png": "[encoded data removed]",
      "text/plain": [
       "<Figure size 432x288 with 1 Axes>"
      ]
     },
     "metadata": {
      "needs_background": "light"
     },
     "output_type": "display_data"
    }
   ],
   "source": [
    "X_tmp = X_test.copy()\n",
    "X_tmp['labels'] = y_pred\n",
    "\n",
    "plt.scatter(X_tmp[X_tmp['labels']==0]['MonthlyIncome'], X_tmp[X_tmp['labels']==0]['DebtRatio'], c='g')\n",
    "plt.scatter(X_tmp[X_tmp['labels']==1]['MonthlyIncome'], X_tmp[X_tmp['labels']==1]['DebtRatio'], c='b')"
   ]
  },
  {
   "cell_type": "code",
   "execution_count": 40,
   "metadata": {},
   "outputs": [
    {
     "data": {
      "text/plain": [
       "<matplotlib.collections.PathCollection at 0x7f16af5a5070>"
      ]
     },
     "execution_count": 40,
     "metadata": {},
     "output_type": "execute_result"
    },
    {
     "data": {
      "image/png": "[encoded data removed]",
      "text/plain": [
       "<Figure size 432x288 with 1 Axes>"
      ]
     },
     "metadata": {
      "needs_background": "light"
     },
     "output_type": "display_data"
    }
   ],
   "source": [
    "X_tmp = X_test.copy()\n",
    "X_tmp['labels'] = y_test\n",
    "\n",
    "plt.scatter(X_tmp[X_tmp['labels']==0]['MonthlyIncome'], X_tmp[X_tmp['labels']==0]['DebtRatio'], c='g')\n",
    "plt.scatter(X_tmp[X_tmp['labels']==1]['MonthlyIncome'], X_tmp[X_tmp['labels']==1]['DebtRatio'], c='b')"
   ]
  },
  {
   "cell_type": "code",
   "execution_count": 41,
   "metadata": {},
   "outputs": [
    {
     "name": "stdout",
     "output_type": "stream",
     "text": [
      "1080 270 1080 270\n"
     ]
    }
   ],
   "source": [
    "X_train = df[['NumberOfOpenCreditLinesAndLoans', 'NumberOfDependents']]\n",
    "y_train = df['SeriousDlqin2yrs']\n",
    "X_train, X_test, y_train, y_test = train_test_split(X_train, y_train, test_size=0.2, random_state=42)\n",
    "print(len(X_train),len(X_test),len(y_train),len(y_test))\n",
    "y_train = y_train.to_numpy()\n",
    "y_test = y_test.to_numpy()"
   ]
  },
  {
   "cell_type": "code",
   "execution_count": 42,
   "metadata": {},
   "outputs": [],
   "source": [
    "y_pred = np.zeros(len(y_test))\n",
    "for i in range(len(y_test)):\n",
    "    neighbors = get_neighbors(X_train, y_train, X_test.iloc[[i]], 2)\n",
    "    y_pred[i] = check(neighbors)\n",
    "#     print(\"index: \", i, \n",
    "#           \", result of check: \", check(neighbors), \n",
    "#           \", true label: \", y_test[i])"
   ]
  },
  {
   "cell_type": "code",
   "execution_count": 43,
   "metadata": {},
   "outputs": [
    {
     "data": {
      "text/plain": [
       "<matplotlib.collections.PathCollection at 0x7f16af434e80>"
      ]
     },
     "execution_count": 43,
     "metadata": {},
     "output_type": "execute_result"
    },
    {
     "data": {
      "image/png": "[encoded data removed]",
      "text/plain": [
       "<Figure size 432x288 with 1 Axes>"
      ]
     },
     "metadata": {
      "needs_background": "light"
     },
     "output_type": "display_data"
    }
   ],
   "source": [
    "X_tmp = X_test.copy()\n",
    "X_tmp['labels'] = y_pred\n",
    "\n",
    "plt.scatter(X_tmp[X_tmp['labels']==0]['NumberOfOpenCreditLinesAndLoans'], X_tmp[X_tmp['labels']==0]['NumberOfDependents'], c='g')\n",
    "plt.scatter(X_tmp[X_tmp['labels']==1]['NumberOfOpenCreditLinesAndLoans'], X_tmp[X_tmp['labels']==1]['NumberOfDependents'], c='b')"
   ]
  },
  {
   "cell_type": "code",
   "execution_count": 44,
   "metadata": {},
   "outputs": [
    {
     "data": {
      "text/plain": [
       "<matplotlib.collections.PathCollection at 0x7f16af40bf40>"
      ]
     },
     "execution_count": 44,
     "metadata": {},
     "output_type": "execute_result"
    },
    {
     "data": {
      "image/png": "[encoded data removed]",
      "text/plain": [
       "<Figure size 432x288 with 1 Axes>"
      ]
     },
     "metadata": {
      "needs_background": "light"
     },
     "output_type": "display_data"
    }
   ],
   "source": [
    "X_tmp = X_test.copy()\n",
    "X_tmp['labels'] = y_test\n",
    "\n",
    "plt.scatter(X_tmp[X_tmp['labels']==0]['NumberOfOpenCreditLinesAndLoans'], X_tmp[X_tmp['labels']==0]['NumberOfDependents'], c='g')\n",
    "plt.scatter(X_tmp[X_tmp['labels']==1]['NumberOfOpenCreditLinesAndLoans'], X_tmp[X_tmp['labels']==1]['NumberOfDependents'], c='b')"
   ]
  }
 ],
 "metadata": {
  "kernelspec": {
   "display_name": "Python 3",
   "language": "python",
   "name": "python3"
  },
  "language_info": {
   "codemirror_mode": {
    "name": "ipython",
    "version": 3
   },
   "file_extension": ".py",
   "mimetype": "text/x-python",
   "name": "python",
   "nbconvert_exporter": "python",
   "pygments_lexer": "ipython3",
   "version": "3.8.6"
  }
 },
 "nbformat": 4,
 "nbformat_minor": 4
}
